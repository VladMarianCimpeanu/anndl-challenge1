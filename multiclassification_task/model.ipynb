{
 "cells": [
  {
   "cell_type": "code",
   "execution_count": 16,
   "metadata": {
    "colab": {
     "base_uri": "https://localhost:8080/"
    },
    "id": "I2s82BSfvsKW",
    "outputId": "c778c0a8-9d08-40b2-ff01-328c15fc144f"
   },
   "outputs": [
    {
     "name": "stdout",
     "output_type": "stream",
     "text": [
      "Warning: no GPU is running\n"
     ]
    }
   ],
   "source": [
    "import tensorflow as tf\n",
    "from tensorflow.keras.preprocessing.image import ImageDataGenerator\n",
    "from tensorflow.keras.callbacks import TensorBoard\n",
    "import numpy as np\n",
    "import os\n",
    "import random\n",
    "import pandas as pd\n",
    "import seaborn as sns\n",
    "import matplotlib as mpl\n",
    "import matplotlib.pyplot as plt\n",
    "from sklearn.model_selection import train_test_split\n",
    "from sklearn.metrics import accuracy_score, f1_score, precision_score, recall_score\n",
    "from sklearn.metrics import confusion_matrix\n",
    "from PIL import Image\n",
    "import time\n",
    "tfk = tf.keras\n",
    "tfkl = tf.keras.layers\n",
    "\n",
    "BATCH_SIZE = 64\n",
    "train_dir = \"./train\"\n",
    "val_dir = \"./val\"\n",
    "# Random seed for reproducibility\n",
    "seed = 42\n",
    "\n",
    "random.seed(seed)\n",
    "os.environ['PYTHONHASHSEED'] = str(seed)\n",
    "np.random.seed(seed)\n",
    "tf.random.set_seed(seed)\n",
    "tf.compat.v1.set_random_seed(seed)\n",
    "\n",
    "if tf.test.gpu_device_name(): \n",
    "    print('Default GPU Device: {}'.format(tf.test.gpu_device_name()))\n",
    "else:\n",
    "    print(\"Warning: no GPU is running\")"
   ]
  },
  {
   "cell_type": "markdown",
   "metadata": {},
   "source": [
    "Computing weights for each class\n"
   ]
  },
  {
   "cell_type": "code",
   "execution_count": 17,
   "metadata": {},
   "outputs": [
    {
     "data": {
      "text/plain": [
       "{0: 9.557432432432433,\n",
       " 1: 3.328235294117647,\n",
       " 2: 3.4332524271844655,\n",
       " 3: 3.4669117647058822,\n",
       " 4: 3.3360849056603774,\n",
       " 5: 7.991525423728813,\n",
       " 6: 3.297202797202797,\n",
       " 7: 3.4839901477832513}"
      ]
     },
     "execution_count": 17,
     "metadata": {},
     "output_type": "execute_result"
    }
   ],
   "source": [
    "labels = os.listdir(\"./train\")\n",
    "counts = []\n",
    "weights = {}\n",
    "for label in labels:\n",
    "    counts.append(len(os.listdir(f\"./train/{label}\")))\n",
    "total = sum(counts)\n",
    "\n",
    "for index, c in enumerate(counts):\n",
    "    weights[index] = (1 / c) * (total / 2.0)\n",
    "weights"
   ]
  },
  {
   "cell_type": "markdown",
   "metadata": {
    "id": "5E3MtA9tzEs_"
   },
   "source": [
    "Method for creating training and validation test."
   ]
  },
  {
   "cell_type": "code",
   "execution_count": 18,
   "metadata": {
    "colab": {
     "base_uri": "https://localhost:8080/"
    },
    "id": "q5p61b-lw0ou",
    "outputId": "dec7d079-a91e-4b68-a9e1-33768bb6e68e"
   },
   "outputs": [
    {
     "name": "stdout",
     "output_type": "stream",
     "text": [
      "Found 2829 images belonging to 8 classes.\n",
      "Found 705 images belonging to 8 classes.\n"
     ]
    }
   ],
   "source": [
    "# Create an instance of ImageDataGenerator for training, validation, and test sets\n",
    "train_data_gen = ImageDataGenerator(rescale=1/255.)\n",
    "valid_data_gen = ImageDataGenerator(rescale=1/255.)\n",
    "\n",
    "# Obtain a data generator with the 'ImageDataGenerator.flow_from_directory' method\n",
    "train_gen = train_data_gen.flow_from_directory(directory=train_dir,\n",
    "                                               target_size=(96,96),\n",
    "                                               color_mode='rgb',\n",
    "                                               classes=None, # can be set to labels\n",
    "                                               class_mode='categorical',\n",
    "                                               batch_size=BATCH_SIZE,\n",
    "                                               shuffle=True,\n",
    "                                               seed=seed)\n",
    "valid_gen = train_data_gen.flow_from_directory(directory=val_dir,\n",
    "                                               target_size=(96,96),\n",
    "                                               color_mode='rgb',\n",
    "                                               classes=None, # can be set to labels\n",
    "                                               class_mode='categorical',\n",
    "                                               batch_size=BATCH_SIZE,\n",
    "                                               shuffle=False,\n",
    "                                               seed=seed)"
   ]
  },
  {
   "cell_type": "code",
   "execution_count": 19,
   "metadata": {
    "id": "JkJGL8cg3xiv"
   },
   "outputs": [],
   "source": [
    "from tensorflow.keras.layers import Dense, Activation, Conv2D, Dropout, MaxPooling2D, Flatten\n",
    "from tensorflow.keras.models import Sequential\n",
    "\n",
    "def build_model(input_shape):\n",
    "    # Build the neural network layer by layer\n",
    "    input_layer = tfkl.Input(shape=input_shape, name='input_layer')\n",
    "\n",
    "    conv1 = tfkl.Conv2D(\n",
    "        filters=16,\n",
    "        kernel_size=3,\n",
    "        padding = 'same',\n",
    "        activation = 'relu',\n",
    "        kernel_initializer = tfk.initializers.HeUniform(seed)\n",
    "    )(input_layer)\n",
    "    pool1 = tfkl.MaxPooling2D()(conv1)\n",
    "\n",
    "    conv2 = tfkl.Conv2D(\n",
    "        filters=32,\n",
    "        kernel_size=3,\n",
    "        padding = 'same',\n",
    "        activation = 'relu',\n",
    "        kernel_initializer = tfk.initializers.HeUniform(seed)\n",
    "    )(pool1)\n",
    "    pool2 = tfkl.MaxPooling2D()(conv2)\n",
    "\n",
    "    conv3 = tfkl.Conv2D(\n",
    "        filters=64,\n",
    "        kernel_size=3,\n",
    "        padding = 'same',\n",
    "        activation = 'relu',\n",
    "        kernel_initializer = tfk.initializers.HeUniform(seed)\n",
    "    )(pool2)\n",
    "    pool3 = tfkl.MaxPooling2D()(conv3)\n",
    "\n",
    "    flattening_layer = tfkl.Flatten(name='Flatten')(pool3)\n",
    "    dropout = tfkl.Dropout(0.1, seed=seed)(flattening_layer)\n",
    "    classifier_layer = tfkl.Dense(units=100, name='Classifier', kernel_initializer=tfk.initializers.HeUniform(seed), activation='relu')(dropout)\n",
    "    dropout1 = tfkl.Dropout(0.1, seed=seed)(classifier_layer)\n",
    "    classifier_layer2 = tfkl.Dense(units=100, name='Classifier2', kernel_initializer=tfk.initializers.HeUniform(seed), activation='relu')(dropout1)\n",
    "    dropout2 = tfkl.Dropout(0.1, seed=seed)(classifier_layer2)\n",
    "    output_layer = tfkl.Dense(units=8, activation='softmax', kernel_initializer=tfk.initializers.GlorotUniform(seed), name='output_layer')(dropout2)\n",
    "    \n",
    "    \n",
    "    \n",
    "    # Connect input and output through the Model class\n",
    "    model = tfk.Model(inputs=input_layer, outputs=output_layer, name=\"model\")\n",
    "\n",
    "    # Compile the model\n",
    "    model.compile(loss=tfk.losses.CategoricalCrossentropy(), optimizer=tfk.optimizers.Adam(), metrics=['accuracy'])\n",
    "    architecture_code = \"c2d--16-32-64-dense--100-100-Drop--01-relu\"\n",
    "    # Return the model\n",
    "    return model, architecture_code"
   ]
  },
  {
   "cell_type": "code",
   "execution_count": 20,
   "metadata": {},
   "outputs": [],
   "source": [
    "epochs = 100"
   ]
  },
  {
   "cell_type": "code",
   "execution_count": 6,
   "metadata": {
    "colab": {
     "base_uri": "https://localhost:8080/"
    },
    "id": "NaD2H9YO9RG6",
    "outputId": "d4650aad-fe3a-44e2-ec6f-9ceef8bdf526"
   },
   "outputs": [
    {
     "name": "stdout",
     "output_type": "stream",
     "text": [
      "Epoch 1/100\n",
      "45/45 [==============================] - 13s 272ms/step - loss: 9.0559 - accuracy: 0.1527 - val_loss: 1.9821 - val_accuracy: 0.3149\n",
      "Epoch 2/100\n",
      "45/45 [==============================] - 10s 213ms/step - loss: 7.8784 - accuracy: 0.2192 - val_loss: 1.7865 - val_accuracy: 0.3376\n",
      "Epoch 3/100\n",
      "45/45 [==============================] - 10s 211ms/step - loss: 7.4452 - accuracy: 0.2899 - val_loss: 1.7025 - val_accuracy: 0.4085\n",
      "Epoch 4/100\n",
      "45/45 [==============================] - 10s 210ms/step - loss: 6.9834 - accuracy: 0.3309 - val_loss: 1.5608 - val_accuracy: 0.4411\n",
      "Epoch 5/100\n",
      "45/45 [==============================] - 10s 215ms/step - loss: 6.5008 - accuracy: 0.3934 - val_loss: 1.5001 - val_accuracy: 0.4695\n",
      "Epoch 6/100\n",
      "45/45 [==============================] - 10s 221ms/step - loss: 5.9863 - accuracy: 0.4224 - val_loss: 1.4516 - val_accuracy: 0.4596\n",
      "Epoch 7/100\n",
      "45/45 [==============================] - 10s 214ms/step - loss: 5.4893 - accuracy: 0.4882 - val_loss: 1.3589 - val_accuracy: 0.5007\n",
      "Epoch 8/100\n",
      "45/45 [==============================] - 10s 225ms/step - loss: 4.9503 - accuracy: 0.5415 - val_loss: 1.3227 - val_accuracy: 0.5177\n",
      "Epoch 9/100\n",
      "45/45 [==============================] - 10s 221ms/step - loss: 4.4474 - accuracy: 0.5903 - val_loss: 1.3132 - val_accuracy: 0.5220\n",
      "Epoch 10/100\n",
      "45/45 [==============================] - 10s 230ms/step - loss: 3.8119 - accuracy: 0.6578 - val_loss: 1.3401 - val_accuracy: 0.5035\n",
      "Epoch 11/100\n",
      "45/45 [==============================] - 10s 218ms/step - loss: 3.3756 - accuracy: 0.7052 - val_loss: 1.3856 - val_accuracy: 0.4965\n",
      "Epoch 12/100\n",
      "45/45 [==============================] - 10s 213ms/step - loss: 2.8385 - accuracy: 0.7568 - val_loss: 1.4208 - val_accuracy: 0.4908\n",
      "Epoch 13/100\n",
      "45/45 [==============================] - 10s 213ms/step - loss: 2.6018 - accuracy: 0.7731 - val_loss: 1.3500 - val_accuracy: 0.5220\n",
      "Epoch 14/100\n",
      "45/45 [==============================] - 10s 215ms/step - loss: 2.1550 - accuracy: 0.8176 - val_loss: 1.3933 - val_accuracy: 0.5277\n",
      "Epoch 15/100\n",
      "45/45 [==============================] - 10s 213ms/step - loss: 2.1028 - accuracy: 0.8264 - val_loss: 1.4200 - val_accuracy: 0.5262\n",
      "Epoch 16/100\n",
      "45/45 [==============================] - 10s 217ms/step - loss: 1.8207 - accuracy: 0.8544 - val_loss: 1.4560 - val_accuracy: 0.5191\n",
      "Epoch 17/100\n",
      "45/45 [==============================] - 10s 213ms/step - loss: 1.5563 - accuracy: 0.8749 - val_loss: 1.4516 - val_accuracy: 0.5390\n",
      "Epoch 18/100\n",
      "45/45 [==============================] - 10s 222ms/step - loss: 1.3677 - accuracy: 0.8932 - val_loss: 1.4901 - val_accuracy: 0.5333\n",
      "Epoch 19/100\n",
      "45/45 [==============================] - 10s 217ms/step - loss: 1.2406 - accuracy: 0.9021 - val_loss: 1.6474 - val_accuracy: 0.5191\n"
     ]
    }
   ],
   "source": [
    "input_shape = (96, 96, 3)\n",
    "m1, code = build_model(input_shape)\n",
    "\n",
    "\n",
    "model_name = f\"{code}-weightedloss-epochs_{epochs}-batch_{BATCH_SIZE}-t-{int(time.time())}\"\n",
    "tensorboard = TensorBoard(log_dir=f\"logs/{model_name}\")\n",
    "\n",
    "h1 = m1.fit(x=train_gen,\n",
    "            epochs=epochs,\n",
    "            validation_data=valid_gen,\n",
    "            callbacks=[tf.keras.callbacks.EarlyStopping(patience=20), tensorboard],\n",
    "            class_weight=weights\n",
    "        )"
   ]
  },
  {
   "cell_type": "code",
   "execution_count": 24,
   "metadata": {},
   "outputs": [],
   "source": [
    "def build_heatmap(model, validation_generator):\n",
    "    y_predicted = model.predict(validation_generator)\n",
    "    y_predicted = tf.argmax(y_predicted, axis=1)\n",
    "    y_test_labels = tf.keras.utils.to_categorical(\n",
    "        validation_generator.labels, num_classes=None, dtype='float32'\n",
    "    )\n",
    "    y_test_labels = tf.argmax(y_test_labels, axis=1)\n",
    "    confusion_matrix = tf.math.confusion_matrix(\n",
    "        y_test_labels, \n",
    "        y_predicted,\n",
    "        num_classes=8\n",
    "    )\n",
    "    c = []\n",
    "    for item in confusion_matrix:\n",
    "        c.append(np.around(item / np.sum(item), decimals=3))\n",
    "    df_heatmap = pd.DataFrame(c)\n",
    "    return df_heatmap\n"
   ]
  },
  {
   "cell_type": "code",
   "execution_count": 11,
   "metadata": {},
   "outputs": [
    {
     "data": {
      "image/png": "[encoded data removed]",
      "text/plain": [
       "<Figure size 640x480 with 2 Axes>"
      ]
     },
     "metadata": {},
     "output_type": "display_data"
    }
   ],
   "source": [
    "df = build_heatmap(m1, valid_gen)\n",
    "sns.heatmap(df)\n",
    "plt.show()"
   ]
  },
  {
   "cell_type": "markdown",
   "metadata": {},
   "source": [
    "Train with data augmentation"
   ]
  },
  {
   "cell_type": "code",
   "execution_count": 21,
   "metadata": {},
   "outputs": [
    {
     "name": "stdout",
     "output_type": "stream",
     "text": [
      "Found 2829 images belonging to 8 classes.\n"
     ]
    }
   ],
   "source": [
    "aug_train_data_gen = ImageDataGenerator(rotation_range=45,\n",
    "                                        height_shift_range=10,\n",
    "                                        width_shift_range=10,\n",
    "                                        zoom_range=0.2,\n",
    "                                        horizontal_flip=True,\n",
    "                                        vertical_flip=True, \n",
    "                                        fill_mode='reflect',\n",
    "                                        rescale=1/255.) # rescale value is multiplied to the image\n",
    "\n",
    "\n",
    "aug_train_gen = aug_train_data_gen.flow_from_directory(directory=train_dir,\n",
    "                                                       target_size=(96,96),\n",
    "                                                       color_mode='rgb',\n",
    "                                                       classes=None, # can be set to labels\n",
    "                                                       class_mode='categorical',\n",
    "                                                       batch_size=BATCH_SIZE,\n",
    "                                                       shuffle=True,\n",
    "                                                       seed=seed)"
   ]
  },
  {
   "cell_type": "code",
   "execution_count": 22,
   "metadata": {},
   "outputs": [
    {
     "name": "stdout",
     "output_type": "stream",
     "text": [
      "Epoch 1/100\n",
      "45/45 [==============================] - 29s 631ms/step - loss: 2.2383 - accuracy: 0.1870 - val_loss: 2.0874 - val_accuracy: 0.1830\n",
      "Epoch 2/100\n",
      "45/45 [==============================] - 26s 575ms/step - loss: 1.8267 - accuracy: 0.2969 - val_loss: 1.8240 - val_accuracy: 0.3248\n",
      "Epoch 3/100\n",
      "45/45 [==============================] - 24s 525ms/step - loss: 1.6739 - accuracy: 0.3701 - val_loss: 2.7823 - val_accuracy: 0.2369\n",
      "Epoch 4/100\n",
      "45/45 [==============================] - 23s 517ms/step - loss: 1.5514 - accuracy: 0.4277 - val_loss: 2.1079 - val_accuracy: 0.2610\n",
      "Epoch 5/100\n",
      "45/45 [==============================] - 23s 519ms/step - loss: 1.5295 - accuracy: 0.4132 - val_loss: 2.7821 - val_accuracy: 0.2170\n",
      "Epoch 6/100\n",
      "45/45 [==============================] - 23s 515ms/step - loss: 1.4691 - accuracy: 0.4549 - val_loss: 1.8117 - val_accuracy: 0.3447\n",
      "Epoch 7/100\n",
      "45/45 [==============================] - 23s 513ms/step - loss: 1.4161 - accuracy: 0.4730 - val_loss: 2.2176 - val_accuracy: 0.2823\n",
      "Epoch 8/100\n",
      "45/45 [==============================] - 23s 506ms/step - loss: 1.4268 - accuracy: 0.4563 - val_loss: 2.3322 - val_accuracy: 0.2922\n",
      "Epoch 9/100\n",
      "45/45 [==============================] - 23s 506ms/step - loss: 1.3739 - accuracy: 0.4846 - val_loss: 2.0592 - val_accuracy: 0.3319\n",
      "Epoch 10/100\n",
      "45/45 [==============================] - 29s 651ms/step - loss: 1.3109 - accuracy: 0.5097 - val_loss: 2.0228 - val_accuracy: 0.3617\n",
      "Epoch 11/100\n",
      "45/45 [==============================] - 28s 617ms/step - loss: 1.2830 - accuracy: 0.5186 - val_loss: 2.0240 - val_accuracy: 0.3901\n",
      "Epoch 12/100\n",
      "45/45 [==============================] - 25s 554ms/step - loss: 1.2457 - accuracy: 0.5415 - val_loss: 2.1021 - val_accuracy: 0.3716\n",
      "Epoch 13/100\n",
      "45/45 [==============================] - 24s 542ms/step - loss: 1.2238 - accuracy: 0.5511 - val_loss: 2.2550 - val_accuracy: 0.3546\n",
      "Epoch 14/100\n",
      "45/45 [==============================] - 25s 555ms/step - loss: 1.2153 - accuracy: 0.5620 - val_loss: 1.9238 - val_accuracy: 0.4014\n",
      "Epoch 15/100\n",
      "45/45 [==============================] - 25s 566ms/step - loss: 1.1779 - accuracy: 0.5751 - val_loss: 1.8999 - val_accuracy: 0.4298\n",
      "Epoch 16/100\n",
      "45/45 [==============================] - 28s 620ms/step - loss: 1.1938 - accuracy: 0.5585 - val_loss: 2.1206 - val_accuracy: 0.3816\n",
      "Epoch 17/100\n",
      "45/45 [==============================] - 27s 597ms/step - loss: 1.1386 - accuracy: 0.5705 - val_loss: 2.0413 - val_accuracy: 0.3787\n",
      "Epoch 18/100\n",
      "45/45 [==============================] - 23s 525ms/step - loss: 1.1166 - accuracy: 0.5850 - val_loss: 1.7783 - val_accuracy: 0.4199\n",
      "Epoch 19/100\n",
      "45/45 [==============================] - 24s 535ms/step - loss: 1.0920 - accuracy: 0.5981 - val_loss: 2.0405 - val_accuracy: 0.3872\n",
      "Epoch 20/100\n",
      "45/45 [==============================] - 27s 603ms/step - loss: 1.0781 - accuracy: 0.6062 - val_loss: 1.8272 - val_accuracy: 0.4340\n",
      "Epoch 21/100\n",
      "45/45 [==============================] - 27s 587ms/step - loss: 1.0347 - accuracy: 0.6200 - val_loss: 2.3076 - val_accuracy: 0.3816\n",
      "Epoch 22/100\n",
      "45/45 [==============================] - 28s 622ms/step - loss: 1.0220 - accuracy: 0.6352 - val_loss: 2.0593 - val_accuracy: 0.3929\n",
      "Epoch 23/100\n",
      "45/45 [==============================] - 25s 561ms/step - loss: 1.0370 - accuracy: 0.6197 - val_loss: 2.0181 - val_accuracy: 0.3745\n",
      "Epoch 24/100\n",
      "45/45 [==============================] - 26s 581ms/step - loss: 1.0324 - accuracy: 0.6296 - val_loss: 2.0819 - val_accuracy: 0.4113\n",
      "Epoch 25/100\n",
      "45/45 [==============================] - 34s 752ms/step - loss: 1.0150 - accuracy: 0.6303 - val_loss: 1.9850 - val_accuracy: 0.4454\n",
      "Epoch 26/100\n",
      "45/45 [==============================] - 27s 603ms/step - loss: 1.0159 - accuracy: 0.6380 - val_loss: 1.4555 - val_accuracy: 0.4979\n",
      "Epoch 27/100\n",
      "45/45 [==============================] - 27s 589ms/step - loss: 0.9876 - accuracy: 0.6341 - val_loss: 1.6042 - val_accuracy: 0.4539\n",
      "Epoch 28/100\n",
      "45/45 [==============================] - 27s 605ms/step - loss: 0.9539 - accuracy: 0.6508 - val_loss: 1.6122 - val_accuracy: 0.4908\n",
      "Epoch 29/100\n",
      "45/45 [==============================] - 28s 616ms/step - loss: 0.9328 - accuracy: 0.6614 - val_loss: 2.0867 - val_accuracy: 0.4071\n",
      "Epoch 30/100\n",
      "45/45 [==============================] - 26s 571ms/step - loss: 0.9483 - accuracy: 0.6589 - val_loss: 2.0180 - val_accuracy: 0.4511\n",
      "Epoch 31/100\n",
      "45/45 [==============================] - 26s 580ms/step - loss: 0.9066 - accuracy: 0.6790 - val_loss: 1.7367 - val_accuracy: 0.4681\n",
      "Epoch 32/100\n",
      "45/45 [==============================] - 23s 518ms/step - loss: 0.9118 - accuracy: 0.6670 - val_loss: 2.0006 - val_accuracy: 0.4468\n",
      "Epoch 33/100\n",
      "45/45 [==============================] - 25s 567ms/step - loss: 0.8882 - accuracy: 0.6748 - val_loss: 2.1031 - val_accuracy: 0.3872\n",
      "Epoch 34/100\n",
      "45/45 [==============================] - 25s 560ms/step - loss: 0.9008 - accuracy: 0.6790 - val_loss: 1.6315 - val_accuracy: 0.5078\n",
      "Epoch 35/100\n",
      "45/45 [==============================] - 26s 582ms/step - loss: 0.8899 - accuracy: 0.6861 - val_loss: 1.9976 - val_accuracy: 0.4426\n",
      "Epoch 36/100\n",
      "45/45 [==============================] - 25s 564ms/step - loss: 0.9198 - accuracy: 0.6635 - val_loss: 2.1446 - val_accuracy: 0.4326\n",
      "Epoch 37/100\n",
      "45/45 [==============================] - 25s 554ms/step - loss: 0.8605 - accuracy: 0.6762 - val_loss: 1.5403 - val_accuracy: 0.5163\n",
      "Epoch 38/100\n",
      "45/45 [==============================] - 25s 545ms/step - loss: 0.8200 - accuracy: 0.7073 - val_loss: 1.8865 - val_accuracy: 0.4496\n",
      "Epoch 39/100\n",
      "45/45 [==============================] - 25s 550ms/step - loss: 0.8598 - accuracy: 0.6847 - val_loss: 1.1886 - val_accuracy: 0.6099\n",
      "Epoch 40/100\n",
      "45/45 [==============================] - 24s 541ms/step - loss: 0.8417 - accuracy: 0.6872 - val_loss: 1.5276 - val_accuracy: 0.5206\n",
      "Epoch 41/100\n",
      "45/45 [==============================] - 26s 568ms/step - loss: 0.8144 - accuracy: 0.7002 - val_loss: 2.0547 - val_accuracy: 0.4312\n",
      "Epoch 42/100\n",
      "45/45 [==============================] - 27s 604ms/step - loss: 0.8196 - accuracy: 0.7010 - val_loss: 1.7246 - val_accuracy: 0.5163\n",
      "Epoch 43/100\n",
      "45/45 [==============================] - 31s 682ms/step - loss: 0.8179 - accuracy: 0.7017 - val_loss: 1.3976 - val_accuracy: 0.5801\n",
      "Epoch 44/100\n",
      "45/45 [==============================] - 26s 585ms/step - loss: 0.7934 - accuracy: 0.7112 - val_loss: 1.6048 - val_accuracy: 0.5489\n",
      "Epoch 45/100\n",
      "45/45 [==============================] - 24s 529ms/step - loss: 0.7758 - accuracy: 0.7094 - val_loss: 1.2713 - val_accuracy: 0.5901\n",
      "Epoch 46/100\n",
      "45/45 [==============================] - 24s 526ms/step - loss: 0.7891 - accuracy: 0.7034 - val_loss: 1.5860 - val_accuracy: 0.5206\n",
      "Epoch 47/100\n",
      "45/45 [==============================] - 26s 571ms/step - loss: 0.7299 - accuracy: 0.7356 - val_loss: 1.8349 - val_accuracy: 0.4780\n",
      "Epoch 48/100\n",
      "45/45 [==============================] - 26s 568ms/step - loss: 0.8305 - accuracy: 0.7034 - val_loss: 1.4820 - val_accuracy: 0.5206\n",
      "Epoch 49/100\n",
      "45/45 [==============================] - 26s 571ms/step - loss: 0.7170 - accuracy: 0.7359 - val_loss: 1.6514 - val_accuracy: 0.4936\n",
      "Epoch 50/100\n",
      "45/45 [==============================] - 26s 574ms/step - loss: 0.7457 - accuracy: 0.7261 - val_loss: 1.7724 - val_accuracy: 0.4723\n",
      "Epoch 51/100\n",
      "45/45 [==============================] - 25s 554ms/step - loss: 0.7508 - accuracy: 0.7321 - val_loss: 1.5888 - val_accuracy: 0.5149\n",
      "Epoch 52/100\n",
      "45/45 [==============================] - 26s 579ms/step - loss: 0.7315 - accuracy: 0.7310 - val_loss: 1.5323 - val_accuracy: 0.5404\n",
      "Epoch 53/100\n",
      "45/45 [==============================] - 28s 615ms/step - loss: 0.7217 - accuracy: 0.7328 - val_loss: 1.6903 - val_accuracy: 0.4851\n",
      "Epoch 54/100\n",
      "45/45 [==============================] - 26s 570ms/step - loss: 0.7696 - accuracy: 0.7236 - val_loss: 1.5514 - val_accuracy: 0.5376\n",
      "Epoch 55/100\n",
      "45/45 [==============================] - 25s 558ms/step - loss: 0.7066 - accuracy: 0.7405 - val_loss: 1.5754 - val_accuracy: 0.5362\n",
      "Epoch 56/100\n",
      "45/45 [==============================] - 25s 564ms/step - loss: 0.6855 - accuracy: 0.7480 - val_loss: 1.6499 - val_accuracy: 0.5234\n",
      "Epoch 57/100\n"
     ]
    },
    {
     "name": "stdout",
     "output_type": "stream",
     "text": [
      "45/45 [==============================] - 28s 613ms/step - loss: 0.6700 - accuracy: 0.7579 - val_loss: 1.4564 - val_accuracy: 0.5660\n",
      "Epoch 58/100\n",
      "45/45 [==============================] - 26s 566ms/step - loss: 0.6686 - accuracy: 0.7504 - val_loss: 1.7528 - val_accuracy: 0.5106\n",
      "Epoch 59/100\n",
      "45/45 [==============================] - 26s 568ms/step - loss: 0.6650 - accuracy: 0.7554 - val_loss: 1.9539 - val_accuracy: 0.5035\n"
     ]
    }
   ],
   "source": [
    "m_augmented, code= build_model(input_shape)\n",
    "\n",
    "\n",
    "model_name = f\"{code}-augmented-epochs_{epochs}-batch_{BATCH_SIZE}-t-{int(time.time())}\"\n",
    "tensorboard = TensorBoard(log_dir=f\"logs/{model_name}\")\n",
    "\n",
    "h_augmented = m_augmented.fit(x=aug_train_gen,\n",
    "            epochs=epochs,\n",
    "            validation_data=valid_gen,\n",
    "            callbacks=[tf.keras.callbacks.EarlyStopping(patience=20), tensorboard]\n",
    "        )\n",
    "# class_weight=weights"
   ]
  },
  {
   "cell_type": "code",
   "execution_count": 25,
   "metadata": {},
   "outputs": [
    {
     "data": {
      "image/png": "[encoded data removed]",
      "text/plain": [
       "<Figure size 640x480 with 2 Axes>"
      ]
     },
     "metadata": {},
     "output_type": "display_data"
    }
   ],
   "source": [
    "df = build_heatmap(m_augmented, valid_gen)\n",
    "sns.heatmap(df)\n",
    "plt.show()"
   ]
  },
  {
   "cell_type": "code",
   "execution_count": 26,
   "metadata": {},
   "outputs": [
    {
     "name": "stdout",
     "output_type": "stream",
     "text": [
      "INFO:tensorflow:Assets written to: models/model_name\\assets\n"
     ]
    }
   ],
   "source": [
    "m_augmented.save(\"models/model_name\")"
   ]
  },
  {
   "cell_type": "code",
   "execution_count": null,
   "metadata": {},
   "outputs": [],
   "source": []
  }
 ],
 "metadata": {
  "accelerator": "GPU",
  "colab": {
   "collapsed_sections": [],
   "provenance": []
  },
  "gpuClass": "standard",
  "kernelspec": {
   "display_name": "Python 3 (ipykernel)",
   "language": "python",
   "name": "python3"
  },
  "language_info": {
   "codemirror_mode": {
    "name": "ipython",
    "version": 3
   },
   "file_extension": ".py",
   "mimetype": "text/x-python",
   "name": "python",
   "nbconvert_exporter": "python",
   "pygments_lexer": "ipython3",
   "version": "3.8.13"
  }
 },
 "nbformat": 4,
 "nbformat_minor": 1
}
