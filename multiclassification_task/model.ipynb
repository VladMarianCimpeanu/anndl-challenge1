{
 "cells": [
  {
   "cell_type": "code",
   "execution_count": 1,
   "metadata": {
    "colab": {
     "base_uri": "https://localhost:8080/"
    },
    "id": "I2s82BSfvsKW",
    "outputId": "c778c0a8-9d08-40b2-ff01-328c15fc144f"
   },
   "outputs": [
    {
     "name": "stdout",
     "output_type": "stream",
     "text": [
      "Warning: no GPU is running\n"
     ]
    }
   ],
   "source": [
    "import tensorflow as tf\n",
    "from tensorflow.keras.preprocessing.image import ImageDataGenerator\n",
    "from tensorflow.keras.callbacks import TensorBoard\n",
    "import numpy as np\n",
    "import os\n",
    "import random\n",
    "import pandas as pd\n",
    "import seaborn as sns\n",
    "import matplotlib as mpl\n",
    "import matplotlib.pyplot as plt\n",
    "from sklearn.model_selection import train_test_split\n",
    "from sklearn.metrics import accuracy_score, f1_score, precision_score, recall_score\n",
    "from sklearn.metrics import confusion_matrix\n",
    "from PIL import Image\n",
    "import time\n",
    "tfk = tf.keras\n",
    "tfkl = tf.keras.layers\n",
    "\n",
    "BATCH_SIZE = 64\n",
    "# Random seed for reproducibility\n",
    "seed = 42\n",
    "\n",
    "random.seed(seed)\n",
    "os.environ['PYTHONHASHSEED'] = str(seed)\n",
    "np.random.seed(seed)\n",
    "tf.random.set_seed(seed)\n",
    "tf.compat.v1.set_random_seed(seed)\n",
    "\n",
    "if tf.test.gpu_device_name(): \n",
    "    print('Default GPU Device: {}'.format(tf.test.gpu_device_name()))\n",
    "else:\n",
    "    print(\"Warning: no GPU is running\")"
   ]
  },
  {
   "cell_type": "markdown",
   "metadata": {},
   "source": [
    "Computing weights for each class\n"
   ]
  },
  {
   "cell_type": "code",
   "execution_count": 2,
   "metadata": {},
   "outputs": [
    {
     "data": {
      "text/plain": [
       "{0: 9.557432432432433,\n",
       " 1: 3.328235294117647,\n",
       " 2: 3.4332524271844655,\n",
       " 3: 3.4669117647058822,\n",
       " 4: 3.3360849056603774,\n",
       " 5: 7.991525423728813,\n",
       " 6: 3.297202797202797,\n",
       " 7: 3.4839901477832513}"
      ]
     },
     "execution_count": 2,
     "metadata": {},
     "output_type": "execute_result"
    }
   ],
   "source": [
    "labels = os.listdir(\"./train\")\n",
    "counts = []\n",
    "weights = {}\n",
    "for label in labels:\n",
    "    counts.append(len(os.listdir(f\"./train/{label}\")))\n",
    "total = sum(counts)\n",
    "\n",
    "for index, c in enumerate(counts):\n",
    "    weights[index] = (1 / c) * (total / 2.0)\n",
    "weights"
   ]
  },
  {
   "cell_type": "markdown",
   "metadata": {
    "id": "5E3MtA9tzEs_"
   },
   "source": [
    "Method for creating training and validation test."
   ]
  },
  {
   "cell_type": "code",
   "execution_count": 3,
   "metadata": {
    "colab": {
     "base_uri": "https://localhost:8080/"
    },
    "id": "q5p61b-lw0ou",
    "outputId": "dec7d079-a91e-4b68-a9e1-33768bb6e68e"
   },
   "outputs": [
    {
     "name": "stdout",
     "output_type": "stream",
     "text": [
      "Found 2829 images belonging to 8 classes.\n",
      "Found 705 images belonging to 8 classes.\n"
     ]
    }
   ],
   "source": [
    "# Create an instance of ImageDataGenerator for training, validation, and test sets\n",
    "train_data_gen = ImageDataGenerator(rescale=1/255.)\n",
    "valid_data_gen = ImageDataGenerator(rescale=1/255.)\n",
    "\n",
    "# Obtain a data generator with the 'ImageDataGenerator.flow_from_directory' method\n",
    "train_gen = train_data_gen.flow_from_directory(directory=\"./train\",\n",
    "                                               target_size=(96,96),\n",
    "                                               color_mode='rgb',\n",
    "                                               classes=None, # can be set to labels\n",
    "                                               class_mode='categorical',\n",
    "                                               batch_size=BATCH_SIZE,\n",
    "                                               shuffle=True,\n",
    "                                               seed=seed)\n",
    "valid_gen = train_data_gen.flow_from_directory(directory=\"./val\",\n",
    "                                               target_size=(96,96),\n",
    "                                               color_mode='rgb',\n",
    "                                               classes=None, # can be set to labels\n",
    "                                               class_mode='categorical',\n",
    "                                               batch_size=BATCH_SIZE,\n",
    "                                               shuffle=False,\n",
    "                                               seed=seed)"
   ]
  },
  {
   "cell_type": "code",
   "execution_count": 4,
   "metadata": {
    "id": "JkJGL8cg3xiv"
   },
   "outputs": [],
   "source": [
    "from tensorflow.keras.layers import Dense, Activation, Conv2D, Dropout, MaxPooling2D, Flatten\n",
    "from tensorflow.keras.models import Sequential\n",
    "\n",
    "def build_model(input_shape):\n",
    "\n",
    "    # Build the neural network layer by layer\n",
    "    input_layer = tfkl.Input(shape=input_shape, name='input_layer')\n",
    "\n",
    "    conv1 = tfkl.Conv2D(\n",
    "        filters=16,\n",
    "        kernel_size=3,\n",
    "        padding = 'same',\n",
    "        activation = 'relu',\n",
    "        kernel_initializer = tfk.initializers.HeUniform(seed)\n",
    "    )(input_layer)\n",
    "    pool1 = tfkl.MaxPooling2D()(conv1)\n",
    "\n",
    "    conv2 = tfkl.Conv2D(\n",
    "        filters=32,\n",
    "        kernel_size=3,\n",
    "        padding = 'same',\n",
    "        activation = 'relu',\n",
    "        kernel_initializer = tfk.initializers.HeUniform(seed)\n",
    "    )(pool1)\n",
    "    pool2 = tfkl.MaxPooling2D()(conv2)\n",
    "\n",
    "    \"\"\"conv3 = tfkl.Conv2D(\n",
    "        filters=64,\n",
    "        kernel_size=3,\n",
    "        padding = 'same',\n",
    "        activation = 'relu',\n",
    "        kernel_initializer = tfk.initializers.HeUniform(seed)\n",
    "    )(pool2)\n",
    "    pool3 = tfkl.MaxPooling2D()(conv3)\"\"\"\n",
    "\n",
    "    flattening_layer = tfkl.Flatten(name='Flatten')(pool2)\n",
    "    dropout = tfkl.Dropout(0.4, seed=seed)(flattening_layer)\n",
    "    classifier_layer = tfkl.Dense(units=100, name='Classifier', kernel_initializer=tfk.initializers.HeUniform(seed), activation='swish')(dropout)\n",
    "    dropout1 = tfkl.Dropout(0.4, seed=seed)(classifier_layer)\n",
    "    classifier_layer2 = tfkl.Dense(units=50, name='Classifier2', kernel_initializer=tfk.initializers.HeUniform(seed), activation='swish')(dropout1)\n",
    "    dropout2 = tfkl.Dropout(0.4, seed=seed)(classifier_layer2)\n",
    "    output_layer = tfkl.Dense(units=8, activation='softmax', kernel_initializer=tfk.initializers.GlorotUniform(seed), name='output_layer')(dropout2)\n",
    "    \n",
    "    \n",
    "    \n",
    "    # Connect input and output through the Model class\n",
    "    model = tfk.Model(inputs=input_layer, outputs=output_layer, name=\"model\")\n",
    "\n",
    "    # Compile the model\n",
    "    model.compile(loss=tfk.losses.CategoricalCrossentropy(), optimizer=tfk.optimizers.Adam(), metrics=['accuracy'])\n",
    "\n",
    "    # Return the model\n",
    "    return model"
   ]
  },
  {
   "cell_type": "code",
   "execution_count": 5,
   "metadata": {},
   "outputs": [],
   "source": [
    "epochs = 100"
   ]
  },
  {
   "cell_type": "code",
   "execution_count": 6,
   "metadata": {
    "colab": {
     "base_uri": "https://localhost:8080/"
    },
    "id": "NaD2H9YO9RG6",
    "outputId": "d4650aad-fe3a-44e2-ec6f-9ceef8bdf526"
   },
   "outputs": [
    {
     "name": "stdout",
     "output_type": "stream",
     "text": [
      "Epoch 1/100\n",
      "45/45 [==============================] - 13s 272ms/step - loss: 9.0559 - accuracy: 0.1527 - val_loss: 1.9821 - val_accuracy: 0.3149\n",
      "Epoch 2/100\n",
      "45/45 [==============================] - 10s 213ms/step - loss: 7.8784 - accuracy: 0.2192 - val_loss: 1.7865 - val_accuracy: 0.3376\n",
      "Epoch 3/100\n",
      "45/45 [==============================] - 10s 211ms/step - loss: 7.4452 - accuracy: 0.2899 - val_loss: 1.7025 - val_accuracy: 0.4085\n",
      "Epoch 4/100\n",
      "45/45 [==============================] - 10s 210ms/step - loss: 6.9834 - accuracy: 0.3309 - val_loss: 1.5608 - val_accuracy: 0.4411\n",
      "Epoch 5/100\n",
      "45/45 [==============================] - 10s 215ms/step - loss: 6.5008 - accuracy: 0.3934 - val_loss: 1.5001 - val_accuracy: 0.4695\n",
      "Epoch 6/100\n",
      "45/45 [==============================] - 10s 221ms/step - loss: 5.9863 - accuracy: 0.4224 - val_loss: 1.4516 - val_accuracy: 0.4596\n",
      "Epoch 7/100\n",
      "45/45 [==============================] - 10s 214ms/step - loss: 5.4893 - accuracy: 0.4882 - val_loss: 1.3589 - val_accuracy: 0.5007\n",
      "Epoch 8/100\n",
      "45/45 [==============================] - 10s 225ms/step - loss: 4.9503 - accuracy: 0.5415 - val_loss: 1.3227 - val_accuracy: 0.5177\n",
      "Epoch 9/100\n",
      "45/45 [==============================] - 10s 221ms/step - loss: 4.4474 - accuracy: 0.5903 - val_loss: 1.3132 - val_accuracy: 0.5220\n",
      "Epoch 10/100\n",
      "45/45 [==============================] - 10s 230ms/step - loss: 3.8119 - accuracy: 0.6578 - val_loss: 1.3401 - val_accuracy: 0.5035\n",
      "Epoch 11/100\n",
      "45/45 [==============================] - 10s 218ms/step - loss: 3.3756 - accuracy: 0.7052 - val_loss: 1.3856 - val_accuracy: 0.4965\n",
      "Epoch 12/100\n",
      "45/45 [==============================] - 10s 213ms/step - loss: 2.8385 - accuracy: 0.7568 - val_loss: 1.4208 - val_accuracy: 0.4908\n",
      "Epoch 13/100\n",
      "45/45 [==============================] - 10s 213ms/step - loss: 2.6018 - accuracy: 0.7731 - val_loss: 1.3500 - val_accuracy: 0.5220\n",
      "Epoch 14/100\n",
      "45/45 [==============================] - 10s 215ms/step - loss: 2.1550 - accuracy: 0.8176 - val_loss: 1.3933 - val_accuracy: 0.5277\n",
      "Epoch 15/100\n",
      "45/45 [==============================] - 10s 213ms/step - loss: 2.1028 - accuracy: 0.8264 - val_loss: 1.4200 - val_accuracy: 0.5262\n",
      "Epoch 16/100\n",
      "45/45 [==============================] - 10s 217ms/step - loss: 1.8207 - accuracy: 0.8544 - val_loss: 1.4560 - val_accuracy: 0.5191\n",
      "Epoch 17/100\n",
      "45/45 [==============================] - 10s 213ms/step - loss: 1.5563 - accuracy: 0.8749 - val_loss: 1.4516 - val_accuracy: 0.5390\n",
      "Epoch 18/100\n",
      "45/45 [==============================] - 10s 222ms/step - loss: 1.3677 - accuracy: 0.8932 - val_loss: 1.4901 - val_accuracy: 0.5333\n",
      "Epoch 19/100\n",
      "45/45 [==============================] - 10s 217ms/step - loss: 1.2406 - accuracy: 0.9021 - val_loss: 1.6474 - val_accuracy: 0.5191\n"
     ]
    }
   ],
   "source": [
    "input_shape = (96, 96, 3)\n",
    "m1 = build_model(input_shape)\n",
    "\n",
    "\n",
    "model_name = f\"cnn-weightedloss-epochs_{epochs}-batch_{BATCH_SIZE}-t-{int(time.time())}\"\n",
    "tensorboard = TensorBoard(log_dir=f\"logs/{model_name}\")\n",
    "\n",
    "h1 = m1.fit(x=train_gen,\n",
    "            epochs=epochs,\n",
    "            validation_data=valid_gen,\n",
    "            callbacks=[tf.keras.callbacks.EarlyStopping(patience=20), tensorboard],\n",
    "            class_weight=weights\n",
    "        )"
   ]
  },
  {
   "cell_type": "code",
   "execution_count": 7,
   "metadata": {},
   "outputs": [
    {
     "name": "stdout",
     "output_type": "stream",
     "text": [
      "12/12 [==============================] - 2s 133ms/step - loss: 1.6474 - accuracy: 0.5191\n",
      "0.5191489458084106\n"
     ]
    }
   ],
   "source": [
    "y_predicted = m1.predict(valid_gen)\n",
    "y_predicted = tf.argmax(y_predicted, axis=1)\n",
    "\n",
    "test_loss, test_acc = m1.evaluate(valid_gen)\n",
    "print(test_acc)"
   ]
  },
  {
   "cell_type": "code",
   "execution_count": 8,
   "metadata": {},
   "outputs": [],
   "source": [
    "y_test_labels = tf.keras.utils.to_categorical(\n",
    "    valid_gen.labels, num_classes=None, dtype='float32'\n",
    ")"
   ]
  },
  {
   "cell_type": "code",
   "execution_count": 9,
   "metadata": {},
   "outputs": [],
   "source": [
    "y_test_labels = tf.argmax(y_test_labels, axis=1)"
   ]
  },
  {
   "cell_type": "code",
   "execution_count": 10,
   "metadata": {},
   "outputs": [],
   "source": [
    "confusion_matrix = tf.math.confusion_matrix(\n",
    "    y_test_labels, \n",
    "    y_predicted,\n",
    "    num_classes=8\n",
    ")\n",
    "c = []\n",
    "for item in confusion_matrix:\n",
    "    c.append(np.around(item / np.sum(item), decimals=3))\n",
    "df_heatmap = pd.DataFrame(c)"
   ]
  },
  {
   "cell_type": "code",
   "execution_count": 11,
   "metadata": {},
   "outputs": [
    {
     "data": {
      "image/png": "[encoded data removed]",
      "text/plain": [
       "<Figure size 640x480 with 2 Axes>"
      ]
     },
     "metadata": {},
     "output_type": "display_data"
    }
   ],
   "source": [
    "sns.heatmap(df_heatmap)\n",
    "plt.show()"
   ]
  },
  {
   "cell_type": "code",
   "execution_count": null,
   "metadata": {},
   "outputs": [],
   "source": []
  }
 ],
 "metadata": {
  "accelerator": "GPU",
  "colab": {
   "collapsed_sections": [],
   "provenance": []
  },
  "gpuClass": "standard",
  "kernelspec": {
   "display_name": "Python 3 (ipykernel)",
   "language": "python",
   "name": "python3"
  },
  "language_info": {
   "codemirror_mode": {
    "name": "ipython",
    "version": 3
   },
   "file_extension": ".py",
   "mimetype": "text/x-python",
   "name": "python",
   "nbconvert_exporter": "python",
   "pygments_lexer": "ipython3",
   "version": "3.8.13"
  }
 },
 "nbformat": 4,
 "nbformat_minor": 1
}
