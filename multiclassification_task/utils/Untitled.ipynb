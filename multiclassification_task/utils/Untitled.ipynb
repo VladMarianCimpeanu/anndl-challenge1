{
 "cells": [
  {
   "cell_type": "code",
   "execution_count": 2,
   "id": "24d022d9",
   "metadata": {},
   "outputs": [
    {
     "name": "stdout",
     "output_type": "stream",
     "text": [
      "Collecting split-folders\n",
      "  Using cached split_folders-0.5.1-py3-none-any.whl (8.4 kB)\n",
      "Installing collected packages: split-folders\n",
      "Successfully installed split-folders-0.5.1\n"
     ]
    }
   ],
   "source": [
    "!pip install split-folders\n",
    "import splitfolders\n",
    "import os\n"
   ]
  },
  {
   "cell_type": "code",
   "execution_count": 5,
   "id": "c8099587",
   "metadata": {},
   "outputs": [
    {
     "name": "stdout",
     "output_type": "stream",
     "text": [
      " Il volume nell'unit… C Š Windows\n",
      " Numero di serie del volume: 6E8F-3865\n",
      "\n",
      " Directory di C:\\Users\\mvcim\\OneDrive\\Desktop\\vlad\\magistrale\\3rd semester\\deep learning\\challenge\\anndl\\multiclassification_task\\code\n",
      "\n",
      "10/11/2022  12:34    <DIR>          .\n",
      "10/11/2022  12:34    <DIR>          ..\n",
      "10/11/2022  12:34    <DIR>          .ipynb_checkpoints\n",
      "09/11/2022  19:11               254 requirements.txt\n",
      "10/11/2022  12:34                72 Untitled.ipynb\n",
      "09/11/2022  19:10                 0 utils.py\n",
      "09/11/2022  19:10                 0 __init__.py\n",
      "               4 File            326 byte\n",
      "               3 Directory  357.179.650.048 byte disponibili\n"
     ]
    }
   ],
   "source": [
    "!dir"
   ]
  }
 ],
 "metadata": {
  "kernelspec": {
   "display_name": "Python 3 (ipykernel)",
   "language": "python",
   "name": "python3"
  },
  "language_info": {
   "codemirror_mode": {
    "name": "ipython",
    "version": 3
   },
   "file_extension": ".py",
   "mimetype": "text/x-python",
   "name": "python",
   "nbconvert_exporter": "python",
   "pygments_lexer": "ipython3",
   "version": "3.8.13"
  }
 },
 "nbformat": 4,
 "nbformat_minor": 5
}
