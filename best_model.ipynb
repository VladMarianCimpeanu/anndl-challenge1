{
 "cells": [
  {
   "cell_type": "markdown",
   "metadata": {
    "execution": {
     "iopub.execute_input": "2022-11-21T10:27:48.547421Z",
     "iopub.status.busy": "2022-11-21T10:27:48.546800Z",
     "iopub.status.idle": "2022-11-21T10:27:48.687300Z",
     "shell.execute_reply": "2022-11-21T10:27:48.683539Z",
     "shell.execute_reply.started": "2022-11-21T10:27:48.547337Z"
    }
   },
   "source": [
    "## Directory definition"
   ]
  },
  {
   "cell_type": "code",
   "execution_count": null,
   "metadata": {},
   "outputs": [],
   "source": [
    "train_dir = \"./train\"\n",
    "train_oversampled_dir = \"./train_oversampled\"\n",
    "val_dir = \"./val\""
   ]
  },
  {
   "cell_type": "markdown",
   "metadata": {},
   "source": [
    "## Important:\n",
    "ConvexNeXt large is an extremly heavy model, thus we were not able to perform Transfer learning and Fine tuning on the same session without getting kaggle's RAM exploding.\n",
    "For this reason, we opened a first session to perform Transfer learning and saved the model.\n",
    "Finally, we opened a second session running the Fine tuning cells, loading the model got through Transfer learning."
   ]
  },
  {
   "cell_type": "code",
   "execution_count": 1,
   "metadata": {
    "execution": {
     "iopub.execute_input": "2022-11-23T15:09:47.772891Z",
     "iopub.status.busy": "2022-11-23T15:09:47.771696Z",
     "iopub.status.idle": "2022-11-23T15:09:58.082926Z",
     "shell.execute_reply": "2022-11-23T15:09:58.081907Z",
     "shell.execute_reply.started": "2022-11-23T15:09:47.772739Z"
    },
    "id": "I2s82BSfvsKW",
    "outputId": "c778c0a8-9d08-40b2-ff01-328c15fc144f"
   },
   "outputs": [
    {
     "name": "stdout",
     "output_type": "stream",
     "text": [
      "Default GPU Device: /device:GPU:0\n"
     ]
    },
    {
     "name": "stderr",
     "output_type": "stream",
     "text": [
      "2022-11-23 15:09:54.410521: I tensorflow/core/platform/cpu_feature_guard.cc:142] This TensorFlow binary is optimized with oneAPI Deep Neural Network Library (oneDNN) to use the following CPU instructions in performance-critical operations:  AVX2 AVX512F FMA\n",
      "To enable them in other operations, rebuild TensorFlow with the appropriate compiler flags.\n",
      "2022-11-23 15:09:54.785879: I tensorflow/stream_executor/cuda/cuda_gpu_executor.cc:937] successful NUMA node read from SysFS had negative value (-1), but there must be at least one NUMA node, so returning NUMA node zero\n",
      "2022-11-23 15:09:54.786732: I tensorflow/stream_executor/cuda/cuda_gpu_executor.cc:937] successful NUMA node read from SysFS had negative value (-1), but there must be at least one NUMA node, so returning NUMA node zero\n",
      "2022-11-23 15:09:54.932098: I tensorflow/stream_executor/cuda/cuda_gpu_executor.cc:937] successful NUMA node read from SysFS had negative value (-1), but there must be at least one NUMA node, so returning NUMA node zero\n",
      "2022-11-23 15:09:54.933079: I tensorflow/stream_executor/cuda/cuda_gpu_executor.cc:937] successful NUMA node read from SysFS had negative value (-1), but there must be at least one NUMA node, so returning NUMA node zero\n",
      "2022-11-23 15:09:54.933909: I tensorflow/stream_executor/cuda/cuda_gpu_executor.cc:937] successful NUMA node read from SysFS had negative value (-1), but there must be at least one NUMA node, so returning NUMA node zero\n",
      "2022-11-23 15:09:54.934691: I tensorflow/stream_executor/cuda/cuda_gpu_executor.cc:937] successful NUMA node read from SysFS had negative value (-1), but there must be at least one NUMA node, so returning NUMA node zero\n",
      "2022-11-23 15:09:58.038030: I tensorflow/stream_executor/cuda/cuda_gpu_executor.cc:937] successful NUMA node read from SysFS had negative value (-1), but there must be at least one NUMA node, so returning NUMA node zero\n",
      "2022-11-23 15:09:58.039387: I tensorflow/stream_executor/cuda/cuda_gpu_executor.cc:937] successful NUMA node read from SysFS had negative value (-1), but there must be at least one NUMA node, so returning NUMA node zero\n",
      "2022-11-23 15:09:58.040483: I tensorflow/stream_executor/cuda/cuda_gpu_executor.cc:937] successful NUMA node read from SysFS had negative value (-1), but there must be at least one NUMA node, so returning NUMA node zero\n",
      "2022-11-23 15:09:58.041554: I tensorflow/stream_executor/cuda/cuda_gpu_executor.cc:937] successful NUMA node read from SysFS had negative value (-1), but there must be at least one NUMA node, so returning NUMA node zero\n",
      "2022-11-23 15:09:58.042589: I tensorflow/stream_executor/cuda/cuda_gpu_executor.cc:937] successful NUMA node read from SysFS had negative value (-1), but there must be at least one NUMA node, so returning NUMA node zero\n",
      "2022-11-23 15:09:58.043663: I tensorflow/core/common_runtime/gpu/gpu_device.cc:1510] Created device /device:GPU:0 with 13789 MB memory:  -> device: 0, name: Tesla T4, pci bus id: 0000:00:04.0, compute capability: 7.5\n",
      "2022-11-23 15:09:58.047573: I tensorflow/stream_executor/cuda/cuda_gpu_executor.cc:937] successful NUMA node read from SysFS had negative value (-1), but there must be at least one NUMA node, so returning NUMA node zero\n",
      "2022-11-23 15:09:58.048624: I tensorflow/core/common_runtime/gpu/gpu_device.cc:1510] Created device /device:GPU:1 with 13789 MB memory:  -> device: 1, name: Tesla T4, pci bus id: 0000:00:05.0, compute capability: 7.5\n",
      "2022-11-23 15:09:58.061732: I tensorflow/stream_executor/cuda/cuda_gpu_executor.cc:937] successful NUMA node read from SysFS had negative value (-1), but there must be at least one NUMA node, so returning NUMA node zero\n",
      "2022-11-23 15:09:58.062848: I tensorflow/stream_executor/cuda/cuda_gpu_executor.cc:937] successful NUMA node read from SysFS had negative value (-1), but there must be at least one NUMA node, so returning NUMA node zero\n",
      "2022-11-23 15:09:58.064061: I tensorflow/stream_executor/cuda/cuda_gpu_executor.cc:937] successful NUMA node read from SysFS had negative value (-1), but there must be at least one NUMA node, so returning NUMA node zero\n",
      "2022-11-23 15:09:58.065769: I tensorflow/stream_executor/cuda/cuda_gpu_executor.cc:937] successful NUMA node read from SysFS had negative value (-1), but there must be at least one NUMA node, so returning NUMA node zero\n",
      "2022-11-23 15:09:58.066863: I tensorflow/stream_executor/cuda/cuda_gpu_executor.cc:937] successful NUMA node read from SysFS had negative value (-1), but there must be at least one NUMA node, so returning NUMA node zero\n",
      "2022-11-23 15:09:58.067953: I tensorflow/stream_executor/cuda/cuda_gpu_executor.cc:937] successful NUMA node read from SysFS had negative value (-1), but there must be at least one NUMA node, so returning NUMA node zero\n",
      "2022-11-23 15:09:58.069262: I tensorflow/stream_executor/cuda/cuda_gpu_executor.cc:937] successful NUMA node read from SysFS had negative value (-1), but there must be at least one NUMA node, so returning NUMA node zero\n",
      "2022-11-23 15:09:58.070308: I tensorflow/stream_executor/cuda/cuda_gpu_executor.cc:937] successful NUMA node read from SysFS had negative value (-1), but there must be at least one NUMA node, so returning NUMA node zero\n",
      "2022-11-23 15:09:58.071376: I tensorflow/stream_executor/cuda/cuda_gpu_executor.cc:937] successful NUMA node read from SysFS had negative value (-1), but there must be at least one NUMA node, so returning NUMA node zero\n",
      "2022-11-23 15:09:58.072549: I tensorflow/core/common_runtime/gpu/gpu_device.cc:1510] Created device /device:GPU:0 with 13789 MB memory:  -> device: 0, name: Tesla T4, pci bus id: 0000:00:04.0, compute capability: 7.5\n",
      "2022-11-23 15:09:58.072716: I tensorflow/stream_executor/cuda/cuda_gpu_executor.cc:937] successful NUMA node read from SysFS had negative value (-1), but there must be at least one NUMA node, so returning NUMA node zero\n",
      "2022-11-23 15:09:58.073700: I tensorflow/core/common_runtime/gpu/gpu_device.cc:1510] Created device /device:GPU:1 with 13789 MB memory:  -> device: 1, name: Tesla T4, pci bus id: 0000:00:05.0, compute capability: 7.5\n"
     ]
    }
   ],
   "source": [
    "import tensorflow as tf\n",
    "\n",
    "\n",
    "import keras\n",
    "import numpy as np\n",
    "import os\n",
    "import random\n",
    "import pandas as pd\n",
    "import seaborn as sns\n",
    "import matplotlib as mpl\n",
    "import matplotlib.pyplot as plt\n",
    "from sklearn.model_selection import train_test_split\n",
    "from sklearn.metrics import accuracy_score, f1_score, precision_score, recall_score\n",
    "from sklearn.metrics import confusion_matrix\n",
    "from PIL import Image\n",
    "import time\n",
    "\n",
    "\n",
    "\n",
    "tfk = tf.keras\n",
    "tfkl = tf.keras.layers\n",
    "\n",
    "\n",
    "# Random seed for reproducibility\n",
    "seed = 42\n",
    "\n",
    "random.seed(seed)\n",
    "os.environ['PYTHONHASHSEED'] = str(seed)\n",
    "np.random.seed(seed)\n",
    "tf.random.set_seed(seed)\n",
    "tf.compat.v1.set_random_seed(seed)\n",
    "\n",
    "if tf.test.gpu_device_name(): \n",
    "    print('Default GPU Device: {}'.format(tf.test.gpu_device_name()))\n",
    "else:\n",
    "    print(\"Warning: no GPU is running\")"
   ]
  },
  {
   "cell_type": "markdown",
   "metadata": {},
   "source": [
    "# COMPUTING WEIGHTS\n"
   ]
  },
  {
   "cell_type": "markdown",
   "metadata": {},
   "source": [
    "computing weights for the weighted loss function. Less frequent are samples from a given category, the higher will be the penalty on missing the correct label.\n",
    "We could not see any improvement using these weights in all of our experiments, thus we do not use this method in this notebook."
   ]
  },
  {
   "cell_type": "code",
   "execution_count": null,
   "metadata": {
    "execution": {
     "iopub.execute_input": "2022-11-20T23:23:59.090032Z",
     "iopub.status.busy": "2022-11-20T23:23:59.088618Z",
     "iopub.status.idle": "2022-11-20T23:23:59.113469Z",
     "shell.execute_reply": "2022-11-20T23:23:59.112601Z",
     "shell.execute_reply.started": "2022-11-20T23:23:59.089990Z"
    }
   },
   "outputs": [],
   "source": [
    "labels = os.listdir(train_dir)\n",
    "labels.sort()\n",
    "counts = []\n",
    "weights = {}\n",
    "for label in labels:\n",
    "    counts.append(len(os.listdir(f\"{train_dir}/{label}\")))\n",
    "total = sum(counts)\n",
    "\n",
    "for index, c in enumerate(counts):\n",
    "    weights[index] = (1 / c) * (total / 8.0)\n",
    "weights"
   ]
  },
  {
   "cell_type": "markdown",
   "metadata": {},
   "source": [
    "# SELF ENSEMBLING"
   ]
  },
  {
   "cell_type": "markdown",
   "metadata": {},
   "source": [
    "Methods used for self ensembling.\n",
    "- tune_inference_augmentation is responsible of turning off the infference mode to the augmentation layers\n",
    "- self_ensembling_predict() method perform multiple predictions on the same validation set (that is augmented by the augmentation layer) allowing to perform self-ensembling.\n",
    "Unfortunally, we were not able to increase the performances with self-enseble."
   ]
  },
  {
   "cell_type": "code",
   "execution_count": 2,
   "metadata": {
    "execution": {
     "iopub.execute_input": "2022-11-23T15:10:05.862271Z",
     "iopub.status.busy": "2022-11-23T15:10:05.861557Z",
     "iopub.status.idle": "2022-11-23T15:10:05.870110Z",
     "shell.execute_reply": "2022-11-23T15:10:05.868859Z",
     "shell.execute_reply.started": "2022-11-23T15:10:05.862232Z"
    }
   },
   "outputs": [],
   "source": [
    "def tune_inference_augmentation(model, activate):\n",
    "    \"\"\"\n",
    "    This method is responsible for turning on or off the inference mode to the augmentation layers of\n",
    "    a given model.\n",
    "    :param model: model whose augmentation layers must be turn\n",
    "    :param activate: boolean value. If True, activate inference mode, otherwise, \n",
    "    turn off inference mode.\n",
    "    :retrun: None\n",
    "    \"\"\"\n",
    "    for l in model.layers:\n",
    "        if type(l) in [tfkl.RandomFlip, tfkl.RandomContrast, tfkl.RandomRotation]:\n",
    "            l.inference=activate\n",
    "\n",
    "def self_ensembling_predict(model, validation, voters=5):\n",
    "    \"\"\"\n",
    "    This method perform a self ensemble prediction. First, it disactivates the inference mode\n",
    "    for the augmentation layers of the model. Given a number of voters, it runs \"voters\" predictions.\n",
    "    Finally averages the answers and gives the argmax for each prediction.\n",
    "    :param model: model for the predictions.\n",
    "    :param validation: dataset object to use for the prediction.\n",
    "    :param voters: number of predictions to run.\n",
    "    :return a tensor containing all the predictions over validation.\n",
    "    \"\"\"\n",
    "    # activating augmentation at inference\n",
    "    tune_inference_augmentation(model, activate=False)\n",
    "    y_predicted = []\n",
    "    for _ in range(voters):\n",
    "        y_predicted.append(model.predict(validation))\n",
    "    y_predicted = np.array(y_predicted)\n",
    "    y_predicted = np.mean(y_predicted, axis=0)\n",
    "    y_predicted = tf.argmax(y_predicted, axis=1)\n",
    "    tune_inference_augmentation(model, activate=True)\n",
    "    return y_predicted\n",
    "        "
   ]
  },
  {
   "cell_type": "code",
   "execution_count": 3,
   "metadata": {
    "execution": {
     "iopub.execute_input": "2022-11-23T15:10:11.172731Z",
     "iopub.status.busy": "2022-11-23T15:10:11.172252Z",
     "iopub.status.idle": "2022-11-23T15:10:11.187340Z",
     "shell.execute_reply": "2022-11-23T15:10:11.186195Z",
     "shell.execute_reply.started": "2022-11-23T15:10:11.172687Z"
    }
   },
   "outputs": [],
   "source": [
    "def build_heatmap(model, validation_generator, ensemble=False):\n",
    "    \"\"\"\n",
    "    This method generates an heatmap used by seaborn to create a confusion matrix.\n",
    "    :param model: model for which the method computes the confusion matrix.\n",
    "    :param validation_generator: dataset object over which the model computes its predictions.\n",
    "    :param ensemble: Optional argument. If ensemble is True, it computes the confusion matrix using\n",
    "    a selfe-ensemble method with 5 voters.\n",
    "    :return pd.DataFrame object containing the confusion matrix.\n",
    "    \"\"\"\n",
    "    if ensemble:\n",
    "        y_predicted = self_ensembling_predict(model, validation_generator, voters=5)\n",
    "    else:\n",
    "        y_predicted = model.predict(validation_generator)\n",
    "        y_predicted = tf.argmax(y_predicted, axis=1)\n",
    "    y_test_labels = np.concatenate([y for x, y in validation_generator], axis=0)\n",
    "    y_test_labels = tf.argmax(y_test_labels, axis=1)\n",
    "    confusion_matrix = tf.math.confusion_matrix(\n",
    "        y_test_labels, \n",
    "        y_predicted,\n",
    "        num_classes=8\n",
    "    )\n",
    "    c = []\n",
    "    for item in confusion_matrix:\n",
    "        c.append(np.around(item / np.sum(item), decimals=3))\n",
    "    df_heatmap = pd.DataFrame(c)\n",
    "    return df_heatmap\n"
   ]
  },
  {
   "cell_type": "markdown",
   "metadata": {},
   "source": [
    "# EFFICIENT PIPELINE"
   ]
  },
  {
   "cell_type": "markdown",
   "metadata": {},
   "source": [
    "The following function is used to load the images in dataset objects. Keras recommend to use Dataset objects to avoid data loading being the bottleneck while training. This implementation allows us to exploit the maximum performances from GPUs.\n",
    "\n",
    "Furthermore, to increase the training speed, we use:\n",
    "- prefetch() method to read the next batch while processing the current batch;\n",
    "- cache() to keep the maximum amount of data in cache to limit the number of times we have to read files."
   ]
  },
  {
   "cell_type": "code",
   "execution_count": 4,
   "metadata": {
    "execution": {
     "iopub.execute_input": "2022-11-23T15:10:16.003807Z",
     "iopub.status.busy": "2022-11-23T15:10:16.003414Z",
     "iopub.status.idle": "2022-11-23T15:10:16.013533Z",
     "shell.execute_reply": "2022-11-23T15:10:16.012528Z",
     "shell.execute_reply.started": "2022-11-23T15:10:16.003759Z"
    }
   },
   "outputs": [],
   "source": [
    "\n",
    "def prepare_batches(\n",
    "    TRAINING_DATA_DIR, VALID_DATA_DIR, \n",
    "    IMAGE_SHAPE, BATCH_SIZE\n",
    "):\n",
    "    autotune = tf.data.AUTOTUNE\n",
    "    train = tf.keras.utils.image_dataset_from_directory(TRAINING_DATA_DIR,\n",
    "                                                               labels=\"inferred\",\n",
    "                                                               label_mode=\"categorical\",\n",
    "                                                               batch_size=BATCH_SIZE,\n",
    "                                                               image_size=IMAGE_SHAPE,\n",
    "                                                               shuffle=True\n",
    "                                                               ).prefetch(buffer_size=autotune).cache()\n",
    "    valid =  tf.keras.utils.image_dataset_from_directory(VALID_DATA_DIR,\n",
    "                                                               labels=\"inferred\",\n",
    "                                                               label_mode=\"categorical\",\n",
    "                                                               batch_size=BATCH_SIZE,\n",
    "                                                               image_size=IMAGE_SHAPE,\n",
    "                                                               shuffle=True\n",
    "                                                               ).prefetch(buffer_size=autotune).cache()\n",
    "    return train, valid\n"
   ]
  },
  {
   "cell_type": "code",
   "execution_count": 4,
   "metadata": {
    "execution": {
     "iopub.execute_input": "2022-11-23T13:44:59.146209Z",
     "iopub.status.busy": "2022-11-23T13:44:59.145530Z",
     "iopub.status.idle": "2022-11-23T13:44:59.162423Z",
     "shell.execute_reply": "2022-11-23T13:44:59.159042Z",
     "shell.execute_reply.started": "2022-11-23T13:44:59.146171Z"
    }
   },
   "outputs": [],
   "source": [
    "def build_model(num_classes, input_shape, n_layers=1, augmentation=True, n_neurons=10, dropout=0, activation=\"relu\"):\n",
    "    model = tfk.models.Sequential()\n",
    "\n",
    "    # preprocessing layers:  \n",
    "    if augmentation:\n",
    "        model.add(tfkl.RandomFlip(mode='horizontal_and_vertical'))\n",
    "        model.add(tfkl.RandomRotation(0.5))\n",
    "        #model.add(tfkl.RandomZoom(0.1))\n",
    "        #model.add(tfkl.RandomContrast(factor=0.2))\n",
    "        model.add(tfkl.RandomTranslation(height_factor=0.2, width_factor=0.2, fill_mode=\"reflect\"))\n",
    "    \n",
    "    # since convexnext large was not implemented in tensorflow 2.6 (used by kaggle) and by upgrading tf to the latest version we\n",
    "    # could not use GPUs anymore, we downloaded the model locally (with tensorflow latest version) und uploaded it on kaggle.\n",
    "    # feature_extractor = tf.keras.models.load_model(\"../input/convexnet/convexnet/large\") \n",
    "    feature_extractor = tf.keras.applications.convnext.ConvNeXtXLarge(include_top=False,\n",
    "                                                                      include_preprocessing=True,\n",
    "                                                                      input_shape=(96, 96, 3))\n",
    "    feature_extractor.trainable = False\n",
    "    \n",
    "    # fully connected stack\n",
    "    model.add(feature_extractor)\n",
    "    model.add(tfkl.Flatten())\n",
    "\n",
    "    model.add(tfkl.Dropout(dropout))\n",
    "    model.add(tfkl.Dense(256, activation=activation, kernel_initializer=tfk.initializers.HeUniform(seed)))\n",
    "    model.add(tfkl.Dropout(dropout))\n",
    "    model.add(tfkl.Dense(128, activation=activation, kernel_initializer=tfk.initializers.HeUniform(seed)))\n",
    "    model.add(tfkl.Dropout(dropout))\n",
    "    model.add(tfkl.Dense(64, activation=activation, kernel_initializer=tfk.initializers.HeUniform(seed)))\n",
    "    model.add(tfkl.Dropout(dropout))\n",
    "    model.add(tfkl.Dense(32, activation=activation, kernel_initializer=tfk.initializers.HeUniform(seed)))\n",
    "    \n",
    "    model.add(tfkl.Dropout(dropout))\n",
    "    model.add(tfkl.Dense(num_classes, activation=\"softmax\", kernel_initializer=tfk.initializers.GlorotUniform(seed)))\n",
    "    return model"
   ]
  },
  {
   "cell_type": "markdown",
   "metadata": {},
   "source": [
    "# Hyperparametes"
   ]
  },
  {
   "cell_type": "code",
   "execution_count": 5,
   "metadata": {
    "execution": {
     "iopub.execute_input": "2022-11-23T14:24:45.376268Z",
     "iopub.status.busy": "2022-11-23T14:24:45.375914Z",
     "iopub.status.idle": "2022-11-23T14:24:45.381333Z",
     "shell.execute_reply": "2022-11-23T14:24:45.380358Z",
     "shell.execute_reply.started": "2022-11-23T14:24:45.376237Z"
    }
   },
   "outputs": [],
   "source": [
    "input_shape = (96, 96, 3)\n",
    "IMAGE_SHAPE = (96, 96) \n",
    "TRAINING_DATA_DIR = train_oversampled_dir\n",
    "VALID_DATA_DIR = val_dir\n",
    "BATCH_SIZE = 512\n",
    "EPOCHS = 300\n",
    "lr = 1e-3"
   ]
  },
  {
   "cell_type": "markdown",
   "metadata": {},
   "source": [
    "# Transfer learning with ConvexNext Large"
   ]
  },
  {
   "cell_type": "markdown",
   "metadata": {},
   "source": [
    "We used kaggle to perform our training process. Since Kaggle provides us with 2 GPUs, we exploit both of them using the mirrored strategy."
   ]
  },
  {
   "cell_type": "code",
   "execution_count": 5,
   "metadata": {
    "execution": {
     "iopub.execute_input": "2022-11-23T15:10:20.892471Z",
     "iopub.status.busy": "2022-11-23T15:10:20.891981Z",
     "iopub.status.idle": "2022-11-23T15:10:21.684842Z",
     "shell.execute_reply": "2022-11-23T15:10:21.683841Z",
     "shell.execute_reply.started": "2022-11-23T15:10:20.892430Z"
    }
   },
   "outputs": [
    {
     "name": "stderr",
     "output_type": "stream",
     "text": [
      "2022-11-23 15:10:20.895163: I tensorflow/stream_executor/cuda/cuda_gpu_executor.cc:937] successful NUMA node read from SysFS had negative value (-1), but there must be at least one NUMA node, so returning NUMA node zero\n",
      "2022-11-23 15:10:20.896483: I tensorflow/stream_executor/cuda/cuda_gpu_executor.cc:937] successful NUMA node read from SysFS had negative value (-1), but there must be at least one NUMA node, so returning NUMA node zero\n",
      "2022-11-23 15:10:20.897628: I tensorflow/stream_executor/cuda/cuda_gpu_executor.cc:937] successful NUMA node read from SysFS had negative value (-1), but there must be at least one NUMA node, so returning NUMA node zero\n",
      "2022-11-23 15:10:20.898745: I tensorflow/stream_executor/cuda/cuda_gpu_executor.cc:937] successful NUMA node read from SysFS had negative value (-1), but there must be at least one NUMA node, so returning NUMA node zero\n",
      "2022-11-23 15:10:20.899920: I tensorflow/stream_executor/cuda/cuda_gpu_executor.cc:937] successful NUMA node read from SysFS had negative value (-1), but there must be at least one NUMA node, so returning NUMA node zero\n",
      "2022-11-23 15:10:20.901057: I tensorflow/stream_executor/cuda/cuda_gpu_executor.cc:937] successful NUMA node read from SysFS had negative value (-1), but there must be at least one NUMA node, so returning NUMA node zero\n",
      "2022-11-23 15:10:20.905186: I tensorflow/stream_executor/cuda/cuda_gpu_executor.cc:937] successful NUMA node read from SysFS had negative value (-1), but there must be at least one NUMA node, so returning NUMA node zero\n",
      "2022-11-23 15:10:20.907062: I tensorflow/stream_executor/cuda/cuda_gpu_executor.cc:937] successful NUMA node read from SysFS had negative value (-1), but there must be at least one NUMA node, so returning NUMA node zero\n",
      "2022-11-23 15:10:20.908211: I tensorflow/stream_executor/cuda/cuda_gpu_executor.cc:937] successful NUMA node read from SysFS had negative value (-1), but there must be at least one NUMA node, so returning NUMA node zero\n",
      "2022-11-23 15:10:20.909508: I tensorflow/stream_executor/cuda/cuda_gpu_executor.cc:937] successful NUMA node read from SysFS had negative value (-1), but there must be at least one NUMA node, so returning NUMA node zero\n",
      "2022-11-23 15:10:20.910956: I tensorflow/stream_executor/cuda/cuda_gpu_executor.cc:937] successful NUMA node read from SysFS had negative value (-1), but there must be at least one NUMA node, so returning NUMA node zero\n",
      "2022-11-23 15:10:20.912318: I tensorflow/stream_executor/cuda/cuda_gpu_executor.cc:937] successful NUMA node read from SysFS had negative value (-1), but there must be at least one NUMA node, so returning NUMA node zero\n",
      "2022-11-23 15:10:20.913623: I tensorflow/stream_executor/cuda/cuda_gpu_executor.cc:937] successful NUMA node read from SysFS had negative value (-1), but there must be at least one NUMA node, so returning NUMA node zero\n",
      "2022-11-23 15:10:20.914869: I tensorflow/stream_executor/cuda/cuda_gpu_executor.cc:937] successful NUMA node read from SysFS had negative value (-1), but there must be at least one NUMA node, so returning NUMA node zero\n",
      "2022-11-23 15:10:20.916145: I tensorflow/stream_executor/cuda/cuda_gpu_executor.cc:937] successful NUMA node read from SysFS had negative value (-1), but there must be at least one NUMA node, so returning NUMA node zero\n",
      "2022-11-23 15:10:20.917226: I tensorflow/core/common_runtime/gpu/gpu_device.cc:1510] Created device /job:localhost/replica:0/task:0/device:GPU:0 with 13789 MB memory:  -> device: 0, name: Tesla T4, pci bus id: 0000:00:04.0, compute capability: 7.5\n",
      "2022-11-23 15:10:20.917401: I tensorflow/stream_executor/cuda/cuda_gpu_executor.cc:937] successful NUMA node read from SysFS had negative value (-1), but there must be at least one NUMA node, so returning NUMA node zero\n",
      "2022-11-23 15:10:20.918474: I tensorflow/core/common_runtime/gpu/gpu_device.cc:1510] Created device /job:localhost/replica:0/task:0/device:GPU:1 with 13789 MB memory:  -> device: 1, name: Tesla T4, pci bus id: 0000:00:05.0, compute capability: 7.5\n"
     ]
    }
   ],
   "source": [
    "mirrored_strategy = tf.distribute.MirroredStrategy(devices=[\"/gpu:0\", \"/gpu:1\"])"
   ]
  },
  {
   "cell_type": "code",
   "execution_count": null,
   "metadata": {
    "execution": {
     "iopub.execute_input": "2022-11-20T23:23:59.204384Z",
     "iopub.status.busy": "2022-11-20T23:23:59.204132Z",
     "iopub.status.idle": "2022-11-20T23:46:00.019991Z",
     "shell.execute_reply": "2022-11-20T23:46:00.018999Z",
     "shell.execute_reply.started": "2022-11-20T23:23:59.204361Z"
    }
   },
   "outputs": [],
   "source": [
    "\n",
    "with mirrored_strategy.scope():\n",
    "    # Prepare the data batches.\n",
    "    train_batches, valid_batches = prepare_batches(\n",
    "        TRAINING_DATA_DIR, VALID_DATA_DIR, IMAGE_SHAPE, BATCH_SIZE\n",
    "    )\n",
    "    # Prepare and compile the model.\n",
    "    model = build_model(num_classes=8,\n",
    "                        input_shape=input_shape,\n",
    "                        augmentation=True,\n",
    "                        n_layers=1,\n",
    "                        n_neurons=256,\n",
    "                        dropout=0.1,\n",
    "                        activation=\"swish\"\n",
    "                       )\n",
    "    model.compile(\n",
    "        optimizer=tf.keras.optimizers.Adam(learning_rate=lr),\n",
    "        loss=tf.keras.losses.CategoricalCrossentropy(),\n",
    "        metrics=['accuracy']\n",
    "    )\n",
    "    # TRAINING PHASE\n",
    "    early_stopping = tf.keras.callbacks.EarlyStopping(patience=30, monitor=\"val_accuracy\", restore_best_weights=True)\n",
    "        \n",
    "    history = model.fit(\n",
    "        train_batches,\n",
    "        epochs=EPOCHS,\n",
    "        validation_data=valid_batches,\n",
    "        verbose=1,\n",
    "        workers=4,\n",
    "        use_multiprocessing=True,\n",
    "        callbacks=[early_stopping]\n",
    "    )"
   ]
  },
  {
   "cell_type": "code",
   "execution_count": null,
   "metadata": {
    "execution": {
     "iopub.execute_input": "2022-11-20T23:46:00.021999Z",
     "iopub.status.busy": "2022-11-20T23:46:00.021653Z",
     "iopub.status.idle": "2022-11-20T23:46:07.005759Z",
     "shell.execute_reply": "2022-11-20T23:46:07.004756Z",
     "shell.execute_reply.started": "2022-11-20T23:46:00.021971Z"
    }
   },
   "outputs": [],
   "source": [
    "x_axis = len(history.history[\"accuracy\"])\n",
    "print(max(history.history[\"val_accuracy\"]), max(history.history[\"accuracy\"]))\n",
    "history.history.keys()\n",
    "plt.figure(figsize=(12, 6))\n",
    "plt.plot([i for i in range(x_axis)], history.history[\"accuracy\"],  color=\"blue\", label=\"train accuracy\")\n",
    "plt.plot([i for i in range(x_axis)], history.history[\"val_accuracy\"], color=\"red\", label=\"validation accuracy\")\n",
    "plt.plot([np.argmax(history.history[\"val_accuracy\"])],\n",
    "         [max(history.history[\"val_accuracy\"])],\n",
    "         marker=\"o\",\n",
    "         markeredgecolor=\"red\",\n",
    "         markerfacecolor=\"red\",\n",
    "         label=\"best model\",\n",
    "         markersize=10\n",
    "        )\n",
    "plt.legend()\n",
    "plt.grid()\n",
    "plt.xlabel(\"Epochs\")\n",
    "plt.ylabel(\"Accuracy\")\n",
    "plt.ylim([0, 1])\n",
    "plt.show()\n"
   ]
  },
  {
   "cell_type": "code",
   "execution_count": null,
   "metadata": {
    "execution": {
     "iopub.execute_input": "2022-11-20T23:46:07.007623Z",
     "iopub.status.busy": "2022-11-20T23:46:07.007263Z",
     "iopub.status.idle": "2022-11-20T23:46:07.237583Z",
     "shell.execute_reply": "2022-11-20T23:46:07.236662Z",
     "shell.execute_reply.started": "2022-11-20T23:46:07.007586Z"
    }
   },
   "outputs": [],
   "source": [
    "plt.figure(figsize=(12, 6))\n",
    "plt.title(\"Cross entropy\")\n",
    "plt.plot([i for i in range(x_axis)], history.history[\"loss\"],  color=\"blue\", label=\"train cross entropy\")\n",
    "plt.plot([i for i in range(x_axis)], history.history[\"val_loss\"], color=\"red\", label=\"validation cross entropy\")\n",
    "plt.plot([np.argmin(history.history[\"val_loss\"])],\n",
    "         [min(history.history[\"val_loss\"])],\n",
    "         marker=\"o\",\n",
    "         markeredgecolor=\"red\",\n",
    "         markerfacecolor=\"red\",\n",
    "         label=\"best model\",\n",
    "         markersize=10\n",
    "        )\n",
    "plt.legend()\n",
    "plt.grid()\n",
    "plt.xlabel(\"Epochs\")\n",
    "plt.ylabel(\"Cross entropy\")\n",
    "plt.show()"
   ]
  },
  {
   "cell_type": "code",
   "execution_count": null,
   "metadata": {
    "execution": {
     "iopub.execute_input": "2022-11-20T23:46:07.239382Z",
     "iopub.status.busy": "2022-11-20T23:46:07.238907Z",
     "iopub.status.idle": "2022-11-20T23:46:18.406367Z",
     "shell.execute_reply": "2022-11-20T23:46:18.405442Z",
     "shell.execute_reply.started": "2022-11-20T23:46:07.239343Z"
    }
   },
   "outputs": [],
   "source": [
    "plt.figure(figsize=(8, 7))\n",
    "df = build_heatmap(model, valid_batches)\n",
    "sns.heatmap(df, annot=True, cmap=\"crest\")\n",
    "plt.plot()"
   ]
  },
  {
   "cell_type": "code",
   "execution_count": null,
   "metadata": {
    "execution": {
     "iopub.execute_input": "2022-11-20T23:46:18.409595Z",
     "iopub.status.busy": "2022-11-20T23:46:18.408527Z",
     "iopub.status.idle": "2022-11-20T23:46:30.621600Z",
     "shell.execute_reply": "2022-11-20T23:46:30.620640Z",
     "shell.execute_reply.started": "2022-11-20T23:46:18.409555Z"
    }
   },
   "outputs": [],
   "source": [
    "plt.figure(figsize=(8, 7))\n",
    "df = build_heatmap(model, valid_batches, ensemble=True)\n",
    "sns.heatmap(df, annot=True, cmap=\"crest\")\n",
    "plt.plot()"
   ]
  },
  {
   "cell_type": "code",
   "execution_count": null,
   "metadata": {
    "execution": {
     "iopub.execute_input": "2022-11-20T23:46:30.623631Z",
     "iopub.status.busy": "2022-11-20T23:46:30.623253Z",
     "iopub.status.idle": "2022-11-20T23:47:15.317026Z",
     "shell.execute_reply": "2022-11-20T23:47:15.315945Z",
     "shell.execute_reply.started": "2022-11-20T23:46:30.623594Z"
    }
   },
   "outputs": [],
   "source": [
    "model.save(f\"models/ConvexNet_transfer_learning_Best\")"
   ]
  },
  {
   "cell_type": "markdown",
   "metadata": {},
   "source": [
    "# Fine tuning\n",
    "Since there are too much abstract features that may not fit with our images we want to drop the last layers"
   ]
  },
  {
   "cell_type": "code",
   "execution_count": null,
   "metadata": {
    "execution": {
     "iopub.execute_input": "2022-11-20T23:48:09.233798Z",
     "iopub.status.busy": "2022-11-20T23:48:09.232909Z",
     "iopub.status.idle": "2022-11-20T23:48:10.399815Z",
     "shell.execute_reply": "2022-11-20T23:48:10.398789Z",
     "shell.execute_reply.started": "2022-11-20T23:48:09.233752Z"
    }
   },
   "outputs": [],
   "source": [
    "del model; gc.collect()"
   ]
  },
  {
   "cell_type": "code",
   "execution_count": 7,
   "metadata": {
    "execution": {
     "iopub.execute_input": "2022-11-23T15:10:49.111706Z",
     "iopub.status.busy": "2022-11-23T15:10:49.111335Z",
     "iopub.status.idle": "2022-11-23T15:10:49.117182Z",
     "shell.execute_reply": "2022-11-23T15:10:49.116017Z",
     "shell.execute_reply.started": "2022-11-23T15:10:49.111675Z"
    }
   },
   "outputs": [],
   "source": [
    "input_shape = (96, 96, 3)\n",
    "IMAGE_SHAPE = (96, 96) # For resizing\n",
    "TRAINING_DATA_DIR = train_oversampled_dir\n",
    "VALID_DATA_DIR = val_dir\n",
    "BATCH_SIZE = 512\n",
    "EPOCHS = 300"
   ]
  },
  {
   "cell_type": "code",
   "execution_count": 9,
   "metadata": {
    "execution": {
     "iopub.execute_input": "2022-11-23T15:14:40.813434Z",
     "iopub.status.busy": "2022-11-23T15:14:40.813016Z",
     "iopub.status.idle": "2022-11-23T16:45:40.175557Z",
     "shell.execute_reply": "2022-11-23T16:45:40.174471Z",
     "shell.execute_reply.started": "2022-11-23T15:14:40.813400Z"
    }
   },
   "outputs": [
    {
     "name": "stdout",
     "output_type": "stream",
     "text": [
      "Found 3362 files belonging to 8 classes.\n",
      "Found 705 files belonging to 8 classes.\n",
      "freeze from 150\n"
     ]
    },
    {
     "name": "stderr",
     "output_type": "stream",
     "text": [
      "2022-11-23 15:15:03.664864: W tensorflow/core/grappler/optimizers/data/auto_shard.cc:695] AUTO sharding policy will apply DATA sharding policy as it failed to apply FILE sharding policy because of the following reason: Found an unshardable source dataset: name: \"TensorSliceDataset/_1\"\n",
      "op: \"TensorSliceDataset\"\n",
      "input: \"Placeholder/_0\"\n",
      "attr {\n",
      "  key: \"Toutput_types\"\n",
      "  value {\n",
      "    list {\n",
      "      type: DT_STRING\n",
      "    }\n",
      "  }\n",
      "}\n",
      "attr {\n",
      "  key: \"output_shapes\"\n",
      "  value {\n",
      "    list {\n",
      "      shape {\n",
      "      }\n",
      "    }\n",
      "  }\n",
      "}\n",
      "\n"
     ]
    },
    {
     "name": "stdout",
     "output_type": "stream",
     "text": [
      "Epoch 1/300\n",
      "7/7 [==============================] - ETA: 0s - loss: 0.3002 - accuracy: 0.8968"
     ]
    },
    {
     "name": "stderr",
     "output_type": "stream",
     "text": [
      "2022-11-23 15:16:17.093237: W tensorflow/core/grappler/optimizers/data/auto_shard.cc:695] AUTO sharding policy will apply DATA sharding policy as it failed to apply FILE sharding policy because of the following reason: Found an unshardable source dataset: name: \"TensorSliceDataset/_1\"\n",
      "op: \"TensorSliceDataset\"\n",
      "input: \"Placeholder/_0\"\n",
      "attr {\n",
      "  key: \"Toutput_types\"\n",
      "  value {\n",
      "    list {\n",
      "      type: DT_STRING\n",
      "    }\n",
      "  }\n",
      "}\n",
      "attr {\n",
      "  key: \"output_shapes\"\n",
      "  value {\n",
      "    list {\n",
      "      shape {\n",
      "      }\n",
      "    }\n",
      "  }\n",
      "}\n",
      "\n"
     ]
    },
    {
     "name": "stdout",
     "output_type": "stream",
     "text": [
      "7/7 [==============================] - 88s 6s/step - loss: 0.3002 - accuracy: 0.8968 - val_loss: 0.3883 - val_accuracy: 0.8809\n",
      "Epoch 2/300\n",
      "7/7 [==============================] - 22s 3s/step - loss: 0.2579 - accuracy: 0.9149 - val_loss: 0.3741 - val_accuracy: 0.8865\n",
      "Epoch 3/300\n",
      "7/7 [==============================] - 23s 3s/step - loss: 0.2212 - accuracy: 0.9280 - val_loss: 0.3640 - val_accuracy: 0.8879\n",
      "Epoch 4/300\n",
      "7/7 [==============================] - 23s 3s/step - loss: 0.2203 - accuracy: 0.9295 - val_loss: 0.3674 - val_accuracy: 0.8922\n",
      "Epoch 5/300\n",
      "7/7 [==============================] - 24s 3s/step - loss: 0.1875 - accuracy: 0.9346 - val_loss: 0.3745 - val_accuracy: 0.8965\n",
      "Epoch 6/300\n",
      "7/7 [==============================] - 24s 3s/step - loss: 0.2082 - accuracy: 0.9313 - val_loss: 0.3632 - val_accuracy: 0.8879\n",
      "Epoch 7/300\n",
      "7/7 [==============================] - 24s 3s/step - loss: 0.1757 - accuracy: 0.9402 - val_loss: 0.3687 - val_accuracy: 0.8894\n",
      "Epoch 8/300\n",
      "7/7 [==============================] - 24s 3s/step - loss: 0.1721 - accuracy: 0.9420 - val_loss: 0.3657 - val_accuracy: 0.8936\n",
      "Epoch 9/300\n",
      "7/7 [==============================] - 24s 3s/step - loss: 0.1605 - accuracy: 0.9459 - val_loss: 0.3758 - val_accuracy: 0.8879\n",
      "Epoch 10/300\n",
      "7/7 [==============================] - 24s 3s/step - loss: 0.1696 - accuracy: 0.9441 - val_loss: 0.3627 - val_accuracy: 0.8936\n",
      "Epoch 11/300\n",
      "7/7 [==============================] - 24s 3s/step - loss: 0.1599 - accuracy: 0.9494 - val_loss: 0.3362 - val_accuracy: 0.9064\n",
      "Epoch 12/300\n",
      "7/7 [==============================] - 24s 3s/step - loss: 0.1766 - accuracy: 0.9390 - val_loss: 0.3621 - val_accuracy: 0.8851\n",
      "Epoch 13/300\n",
      "7/7 [==============================] - 24s 4s/step - loss: 0.1514 - accuracy: 0.9506 - val_loss: 0.3335 - val_accuracy: 0.9007\n",
      "Epoch 14/300\n",
      "7/7 [==============================] - 25s 4s/step - loss: 0.1405 - accuracy: 0.9506 - val_loss: 0.3566 - val_accuracy: 0.8950\n",
      "Epoch 15/300\n",
      "7/7 [==============================] - 23s 3s/step - loss: 0.1319 - accuracy: 0.9554 - val_loss: 0.3349 - val_accuracy: 0.9021\n",
      "Epoch 16/300\n",
      "7/7 [==============================] - 24s 3s/step - loss: 0.1312 - accuracy: 0.9566 - val_loss: 0.3728 - val_accuracy: 0.8950\n",
      "Epoch 17/300\n",
      "7/7 [==============================] - 24s 3s/step - loss: 0.1204 - accuracy: 0.9613 - val_loss: 0.3447 - val_accuracy: 0.9035\n",
      "Epoch 18/300\n",
      "7/7 [==============================] - 24s 3s/step - loss: 0.1171 - accuracy: 0.9595 - val_loss: 0.3636 - val_accuracy: 0.8979\n",
      "Epoch 19/300\n",
      "7/7 [==============================] - 24s 3s/step - loss: 0.1050 - accuracy: 0.9643 - val_loss: 0.3502 - val_accuracy: 0.9035\n",
      "Epoch 20/300\n",
      "7/7 [==============================] - 24s 3s/step - loss: 0.1144 - accuracy: 0.9637 - val_loss: 0.4195 - val_accuracy: 0.8979\n",
      "Epoch 21/300\n",
      "7/7 [==============================] - 24s 4s/step - loss: 0.1090 - accuracy: 0.9649 - val_loss: 0.3838 - val_accuracy: 0.8936\n",
      "Epoch 22/300\n",
      "7/7 [==============================] - 24s 3s/step - loss: 0.1041 - accuracy: 0.9694 - val_loss: 0.4290 - val_accuracy: 0.8879\n",
      "Epoch 23/300\n",
      "7/7 [==============================] - 24s 3s/step - loss: 0.0988 - accuracy: 0.9685 - val_loss: 0.3647 - val_accuracy: 0.9035\n",
      "Epoch 24/300\n",
      "7/7 [==============================] - 24s 3s/step - loss: 0.1009 - accuracy: 0.9667 - val_loss: 0.3844 - val_accuracy: 0.8965\n",
      "Epoch 25/300\n",
      "7/7 [==============================] - 24s 3s/step - loss: 0.0988 - accuracy: 0.9679 - val_loss: 0.3783 - val_accuracy: 0.8979\n",
      "Epoch 26/300\n",
      "7/7 [==============================] - 24s 3s/step - loss: 0.0958 - accuracy: 0.9691 - val_loss: 0.3862 - val_accuracy: 0.9021\n",
      "Epoch 27/300\n",
      "7/7 [==============================] - 24s 3s/step - loss: 0.0945 - accuracy: 0.9723 - val_loss: 0.3910 - val_accuracy: 0.8993\n",
      "Epoch 28/300\n",
      "7/7 [==============================] - 24s 3s/step - loss: 0.0820 - accuracy: 0.9723 - val_loss: 0.3934 - val_accuracy: 0.8993\n",
      "Epoch 29/300\n",
      "7/7 [==============================] - 24s 3s/step - loss: 0.0818 - accuracy: 0.9735 - val_loss: 0.4033 - val_accuracy: 0.8979\n",
      "Epoch 30/300\n",
      "7/7 [==============================] - 24s 3s/step - loss: 0.0844 - accuracy: 0.9738 - val_loss: 0.3984 - val_accuracy: 0.8879\n",
      "Epoch 31/300\n",
      "7/7 [==============================] - 24s 3s/step - loss: 0.0870 - accuracy: 0.9714 - val_loss: 0.3828 - val_accuracy: 0.9050\n",
      "Epoch 32/300\n",
      "7/7 [==============================] - 24s 4s/step - loss: 0.0672 - accuracy: 0.9765 - val_loss: 0.4041 - val_accuracy: 0.8965\n",
      "Epoch 33/300\n",
      "7/7 [==============================] - 25s 4s/step - loss: 0.0810 - accuracy: 0.9771 - val_loss: 0.3909 - val_accuracy: 0.9078\n",
      "Epoch 34/300\n",
      "7/7 [==============================] - 24s 3s/step - loss: 0.0719 - accuracy: 0.9801 - val_loss: 0.3984 - val_accuracy: 0.8993\n",
      "Epoch 35/300\n",
      "7/7 [==============================] - 25s 4s/step - loss: 0.0578 - accuracy: 0.9801 - val_loss: 0.4420 - val_accuracy: 0.8837\n",
      "Epoch 36/300\n",
      "7/7 [==============================] - 24s 3s/step - loss: 0.0631 - accuracy: 0.9792 - val_loss: 0.4338 - val_accuracy: 0.8879\n",
      "Epoch 37/300\n",
      "7/7 [==============================] - 24s 3s/step - loss: 0.0667 - accuracy: 0.9768 - val_loss: 0.4485 - val_accuracy: 0.8908\n",
      "Epoch 38/300\n",
      "7/7 [==============================] - 24s 3s/step - loss: 0.0582 - accuracy: 0.9810 - val_loss: 0.4616 - val_accuracy: 0.8979\n",
      "Epoch 39/300\n",
      "7/7 [==============================] - 24s 3s/step - loss: 0.0554 - accuracy: 0.9827 - val_loss: 0.4523 - val_accuracy: 0.8965\n",
      "Epoch 40/300\n",
      "7/7 [==============================] - 24s 3s/step - loss: 0.0528 - accuracy: 0.9825 - val_loss: 0.4565 - val_accuracy: 0.8950\n",
      "Epoch 41/300\n",
      "7/7 [==============================] - 24s 3s/step - loss: 0.0474 - accuracy: 0.9860 - val_loss: 0.4597 - val_accuracy: 0.8965\n",
      "Epoch 42/300\n",
      "7/7 [==============================] - 24s 3s/step - loss: 0.0529 - accuracy: 0.9830 - val_loss: 0.4497 - val_accuracy: 0.9035\n",
      "Epoch 43/300\n",
      "7/7 [==============================] - 24s 3s/step - loss: 0.0653 - accuracy: 0.9801 - val_loss: 0.4283 - val_accuracy: 0.9050\n",
      "Epoch 44/300\n",
      "7/7 [==============================] - 24s 3s/step - loss: 0.0708 - accuracy: 0.9786 - val_loss: 0.4228 - val_accuracy: 0.9078\n",
      "Epoch 45/300\n",
      "7/7 [==============================] - 24s 3s/step - loss: 0.0609 - accuracy: 0.9819 - val_loss: 0.4579 - val_accuracy: 0.8965\n",
      "Epoch 46/300\n",
      "7/7 [==============================] - 24s 3s/step - loss: 0.0543 - accuracy: 0.9819 - val_loss: 0.4422 - val_accuracy: 0.9064\n",
      "Epoch 47/300\n",
      "7/7 [==============================] - 24s 3s/step - loss: 0.0506 - accuracy: 0.9869 - val_loss: 0.4326 - val_accuracy: 0.9064\n",
      "Epoch 48/300\n",
      "7/7 [==============================] - 24s 4s/step - loss: 0.0490 - accuracy: 0.9857 - val_loss: 0.4371 - val_accuracy: 0.9078\n",
      "Epoch 49/300\n",
      "7/7 [==============================] - 24s 3s/step - loss: 0.0596 - accuracy: 0.9813 - val_loss: 0.4045 - val_accuracy: 0.9021\n",
      "Epoch 50/300\n",
      "7/7 [==============================] - 24s 3s/step - loss: 0.0450 - accuracy: 0.9860 - val_loss: 0.4136 - val_accuracy: 0.9149\n",
      "Epoch 51/300\n",
      "7/7 [==============================] - 24s 3s/step - loss: 0.0515 - accuracy: 0.9842 - val_loss: 0.3910 - val_accuracy: 0.9163\n",
      "Epoch 52/300\n",
      "7/7 [==============================] - 24s 3s/step - loss: 0.0549 - accuracy: 0.9845 - val_loss: 0.4220 - val_accuracy: 0.9135\n",
      "Epoch 53/300\n",
      "7/7 [==============================] - 24s 3s/step - loss: 0.0442 - accuracy: 0.9851 - val_loss: 0.4305 - val_accuracy: 0.9121\n",
      "Epoch 54/300\n",
      "7/7 [==============================] - 24s 3s/step - loss: 0.0556 - accuracy: 0.9833 - val_loss: 0.4119 - val_accuracy: 0.9149\n",
      "Epoch 55/300\n",
      "7/7 [==============================] - 24s 3s/step - loss: 0.0465 - accuracy: 0.9839 - val_loss: 0.4188 - val_accuracy: 0.9177\n",
      "Epoch 56/300\n",
      "7/7 [==============================] - 24s 3s/step - loss: 0.0392 - accuracy: 0.9863 - val_loss: 0.4473 - val_accuracy: 0.8965\n",
      "Epoch 57/300\n",
      "7/7 [==============================] - 24s 3s/step - loss: 0.0378 - accuracy: 0.9893 - val_loss: 0.4041 - val_accuracy: 0.9135\n",
      "Epoch 58/300\n",
      "7/7 [==============================] - 24s 3s/step - loss: 0.0435 - accuracy: 0.9839 - val_loss: 0.4448 - val_accuracy: 0.9078\n",
      "Epoch 59/300\n",
      "7/7 [==============================] - 24s 3s/step - loss: 0.0412 - accuracy: 0.9878 - val_loss: 0.4383 - val_accuracy: 0.9149\n",
      "Epoch 60/300\n",
      "7/7 [==============================] - 24s 3s/step - loss: 0.0395 - accuracy: 0.9866 - val_loss: 0.4204 - val_accuracy: 0.9149\n",
      "Epoch 61/300\n",
      "7/7 [==============================] - 24s 3s/step - loss: 0.0380 - accuracy: 0.9893 - val_loss: 0.4726 - val_accuracy: 0.9050\n",
      "Epoch 62/300\n",
      "7/7 [==============================] - 24s 3s/step - loss: 0.0405 - accuracy: 0.9875 - val_loss: 0.4512 - val_accuracy: 0.9092\n",
      "Epoch 63/300\n",
      "7/7 [==============================] - 24s 3s/step - loss: 0.0409 - accuracy: 0.9872 - val_loss: 0.5130 - val_accuracy: 0.9007\n",
      "Epoch 64/300\n",
      "7/7 [==============================] - 24s 3s/step - loss: 0.0340 - accuracy: 0.9893 - val_loss: 0.4850 - val_accuracy: 0.9163\n",
      "Epoch 65/300\n",
      "7/7 [==============================] - 24s 3s/step - loss: 0.0365 - accuracy: 0.9890 - val_loss: 0.4497 - val_accuracy: 0.9106\n",
      "Epoch 66/300\n",
      "7/7 [==============================] - 24s 3s/step - loss: 0.0351 - accuracy: 0.9884 - val_loss: 0.4809 - val_accuracy: 0.9035\n",
      "Epoch 67/300\n",
      "7/7 [==============================] - 24s 3s/step - loss: 0.0420 - accuracy: 0.9875 - val_loss: 0.4392 - val_accuracy: 0.9092\n",
      "Epoch 68/300\n",
      "7/7 [==============================] - 24s 3s/step - loss: 0.0363 - accuracy: 0.9905 - val_loss: 0.4684 - val_accuracy: 0.9078\n",
      "Epoch 69/300\n",
      "7/7 [==============================] - 24s 3s/step - loss: 0.0361 - accuracy: 0.9902 - val_loss: 0.4559 - val_accuracy: 0.9050\n",
      "Epoch 70/300\n",
      "7/7 [==============================] - 24s 3s/step - loss: 0.0308 - accuracy: 0.9899 - val_loss: 0.4248 - val_accuracy: 0.9135\n",
      "Epoch 71/300\n",
      "7/7 [==============================] - 24s 3s/step - loss: 0.0298 - accuracy: 0.9914 - val_loss: 0.4692 - val_accuracy: 0.9007\n",
      "Epoch 72/300\n",
      "7/7 [==============================] - 24s 3s/step - loss: 0.0304 - accuracy: 0.9914 - val_loss: 0.4442 - val_accuracy: 0.9007\n",
      "Epoch 73/300\n",
      "7/7 [==============================] - 24s 3s/step - loss: 0.0335 - accuracy: 0.9890 - val_loss: 0.4421 - val_accuracy: 0.9092\n",
      "Epoch 74/300\n",
      "7/7 [==============================] - 25s 4s/step - loss: 0.0266 - accuracy: 0.9926 - val_loss: 0.4493 - val_accuracy: 0.9163\n",
      "Epoch 75/300\n",
      "7/7 [==============================] - 24s 3s/step - loss: 0.0308 - accuracy: 0.9908 - val_loss: 0.4286 - val_accuracy: 0.9092\n",
      "Epoch 76/300\n",
      "7/7 [==============================] - 24s 3s/step - loss: 0.0302 - accuracy: 0.9917 - val_loss: 0.4679 - val_accuracy: 0.9121\n",
      "Epoch 77/300\n",
      "7/7 [==============================] - 24s 3s/step - loss: 0.0314 - accuracy: 0.9923 - val_loss: 0.4688 - val_accuracy: 0.9064\n",
      "Epoch 78/300\n",
      "7/7 [==============================] - 24s 3s/step - loss: 0.0331 - accuracy: 0.9887 - val_loss: 0.4644 - val_accuracy: 0.9121\n",
      "Epoch 79/300\n",
      "7/7 [==============================] - 24s 3s/step - loss: 0.0219 - accuracy: 0.9938 - val_loss: 0.4905 - val_accuracy: 0.9078\n",
      "Epoch 80/300\n",
      "7/7 [==============================] - 24s 3s/step - loss: 0.0256 - accuracy: 0.9917 - val_loss: 0.4640 - val_accuracy: 0.9092\n",
      "Epoch 81/300\n",
      "7/7 [==============================] - 24s 3s/step - loss: 0.0288 - accuracy: 0.9914 - val_loss: 0.4943 - val_accuracy: 0.9092\n",
      "Epoch 82/300\n",
      "7/7 [==============================] - 24s 3s/step - loss: 0.0312 - accuracy: 0.9899 - val_loss: 0.4814 - val_accuracy: 0.9121\n",
      "Epoch 83/300\n",
      "7/7 [==============================] - 24s 3s/step - loss: 0.0241 - accuracy: 0.9935 - val_loss: 0.5019 - val_accuracy: 0.9064\n",
      "Epoch 84/300\n",
      "7/7 [==============================] - 24s 3s/step - loss: 0.0195 - accuracy: 0.9932 - val_loss: 0.4809 - val_accuracy: 0.9078\n",
      "Epoch 85/300\n",
      "7/7 [==============================] - 24s 3s/step - loss: 0.0248 - accuracy: 0.9917 - val_loss: 0.4720 - val_accuracy: 0.9121\n",
      "Epoch 86/300\n",
      "7/7 [==============================] - 25s 4s/step - loss: 0.0200 - accuracy: 0.9949 - val_loss: 0.4284 - val_accuracy: 0.9064\n",
      "Epoch 87/300\n",
      "7/7 [==============================] - 24s 3s/step - loss: 0.0244 - accuracy: 0.9920 - val_loss: 0.5142 - val_accuracy: 0.9007\n",
      "Epoch 88/300\n",
      "7/7 [==============================] - 24s 3s/step - loss: 0.0299 - accuracy: 0.9914 - val_loss: 0.4624 - val_accuracy: 0.9121\n",
      "Epoch 89/300\n",
      "7/7 [==============================] - 24s 3s/step - loss: 0.0267 - accuracy: 0.9920 - val_loss: 0.4657 - val_accuracy: 0.9106\n",
      "Epoch 90/300\n",
      "7/7 [==============================] - 24s 3s/step - loss: 0.0289 - accuracy: 0.9929 - val_loss: 0.4972 - val_accuracy: 0.9035\n",
      "Epoch 91/300\n",
      "7/7 [==============================] - 24s 3s/step - loss: 0.0265 - accuracy: 0.9926 - val_loss: 0.4722 - val_accuracy: 0.9050\n",
      "Epoch 92/300\n",
      "7/7 [==============================] - 24s 3s/step - loss: 0.0221 - accuracy: 0.9952 - val_loss: 0.4329 - val_accuracy: 0.9135\n",
      "Epoch 93/300\n",
      "7/7 [==============================] - 24s 3s/step - loss: 0.0157 - accuracy: 0.9955 - val_loss: 0.4749 - val_accuracy: 0.9050\n",
      "Epoch 94/300\n",
      "7/7 [==============================] - 24s 3s/step - loss: 0.0253 - accuracy: 0.9923 - val_loss: 0.4477 - val_accuracy: 0.9149\n",
      "Epoch 95/300\n",
      "7/7 [==============================] - 24s 3s/step - loss: 0.0199 - accuracy: 0.9935 - val_loss: 0.5175 - val_accuracy: 0.9050\n",
      "Epoch 96/300\n",
      "7/7 [==============================] - 24s 3s/step - loss: 0.0187 - accuracy: 0.9938 - val_loss: 0.4699 - val_accuracy: 0.9177\n",
      "Epoch 97/300\n",
      "7/7 [==============================] - 24s 3s/step - loss: 0.0293 - accuracy: 0.9920 - val_loss: 0.4641 - val_accuracy: 0.9106\n",
      "Epoch 98/300\n",
      "7/7 [==============================] - 24s 3s/step - loss: 0.0245 - accuracy: 0.9920 - val_loss: 0.5170 - val_accuracy: 0.9106\n",
      "Epoch 99/300\n",
      "7/7 [==============================] - 24s 3s/step - loss: 0.0173 - accuracy: 0.9946 - val_loss: 0.5105 - val_accuracy: 0.9092\n",
      "Epoch 100/300\n",
      "7/7 [==============================] - 24s 3s/step - loss: 0.0162 - accuracy: 0.9938 - val_loss: 0.4903 - val_accuracy: 0.9177\n",
      "Epoch 101/300\n",
      "7/7 [==============================] - 24s 3s/step - loss: 0.0249 - accuracy: 0.9955 - val_loss: 0.5153 - val_accuracy: 0.9191\n",
      "Epoch 102/300\n",
      "7/7 [==============================] - 24s 3s/step - loss: 0.0280 - accuracy: 0.9917 - val_loss: 0.4811 - val_accuracy: 0.9220\n",
      "Epoch 103/300\n",
      "7/7 [==============================] - 24s 4s/step - loss: 0.0195 - accuracy: 0.9943 - val_loss: 0.5071 - val_accuracy: 0.9163\n",
      "Epoch 104/300\n",
      "7/7 [==============================] - 25s 4s/step - loss: 0.0119 - accuracy: 0.9958 - val_loss: 0.4879 - val_accuracy: 0.9106\n",
      "Epoch 105/300\n",
      "7/7 [==============================] - 24s 3s/step - loss: 0.0245 - accuracy: 0.9923 - val_loss: 0.4861 - val_accuracy: 0.9106\n",
      "Epoch 106/300\n",
      "7/7 [==============================] - 24s 3s/step - loss: 0.0161 - accuracy: 0.9961 - val_loss: 0.4824 - val_accuracy: 0.9135\n",
      "Epoch 107/300\n",
      "7/7 [==============================] - 24s 3s/step - loss: 0.0208 - accuracy: 0.9949 - val_loss: 0.4837 - val_accuracy: 0.9149\n",
      "Epoch 108/300\n",
      "7/7 [==============================] - 24s 3s/step - loss: 0.0258 - accuracy: 0.9932 - val_loss: 0.5159 - val_accuracy: 0.9121\n",
      "Epoch 109/300\n",
      "7/7 [==============================] - 24s 3s/step - loss: 0.0163 - accuracy: 0.9952 - val_loss: 0.5541 - val_accuracy: 0.9149\n",
      "Epoch 110/300\n",
      "7/7 [==============================] - 24s 4s/step - loss: 0.0180 - accuracy: 0.9946 - val_loss: 0.5205 - val_accuracy: 0.9135\n",
      "Epoch 111/300\n",
      "7/7 [==============================] - 24s 3s/step - loss: 0.0258 - accuracy: 0.9929 - val_loss: 0.5278 - val_accuracy: 0.9121\n",
      "Epoch 112/300\n",
      "7/7 [==============================] - 24s 3s/step - loss: 0.0169 - accuracy: 0.9943 - val_loss: 0.5129 - val_accuracy: 0.9106\n",
      "Epoch 113/300\n",
      "7/7 [==============================] - 24s 3s/step - loss: 0.0244 - accuracy: 0.9935 - val_loss: 0.4940 - val_accuracy: 0.9050\n",
      "Epoch 114/300\n",
      "7/7 [==============================] - 24s 3s/step - loss: 0.0213 - accuracy: 0.9958 - val_loss: 0.4796 - val_accuracy: 0.9135\n",
      "Epoch 115/300\n",
      "7/7 [==============================] - 24s 3s/step - loss: 0.0220 - accuracy: 0.9938 - val_loss: 0.5079 - val_accuracy: 0.9149\n",
      "Epoch 116/300\n",
      "7/7 [==============================] - 24s 3s/step - loss: 0.0170 - accuracy: 0.9935 - val_loss: 0.4975 - val_accuracy: 0.9149\n",
      "Epoch 117/300\n",
      "7/7 [==============================] - 24s 3s/step - loss: 0.0175 - accuracy: 0.9949 - val_loss: 0.4702 - val_accuracy: 0.9191\n",
      "Epoch 118/300\n",
      "7/7 [==============================] - 24s 3s/step - loss: 0.0170 - accuracy: 0.9946 - val_loss: 0.4747 - val_accuracy: 0.9206\n",
      "Epoch 119/300\n",
      "7/7 [==============================] - 24s 3s/step - loss: 0.0177 - accuracy: 0.9938 - val_loss: 0.5195 - val_accuracy: 0.9177\n",
      "Epoch 120/300\n",
      "7/7 [==============================] - 25s 4s/step - loss: 0.0160 - accuracy: 0.9946 - val_loss: 0.5044 - val_accuracy: 0.9135\n",
      "Epoch 121/300\n",
      "7/7 [==============================] - 23s 3s/step - loss: 0.0188 - accuracy: 0.9938 - val_loss: 0.5293 - val_accuracy: 0.9106\n",
      "Epoch 122/300\n",
      "7/7 [==============================] - 24s 3s/step - loss: 0.0174 - accuracy: 0.9943 - val_loss: 0.5263 - val_accuracy: 0.9177\n",
      "Epoch 123/300\n",
      "7/7 [==============================] - 24s 3s/step - loss: 0.0297 - accuracy: 0.9923 - val_loss: 0.4720 - val_accuracy: 0.9092\n",
      "Epoch 124/300\n",
      "7/7 [==============================] - 24s 3s/step - loss: 0.0210 - accuracy: 0.9929 - val_loss: 0.5230 - val_accuracy: 0.9064\n",
      "Epoch 125/300\n",
      "7/7 [==============================] - 24s 3s/step - loss: 0.0148 - accuracy: 0.9955 - val_loss: 0.5034 - val_accuracy: 0.9092\n",
      "Epoch 126/300\n",
      "7/7 [==============================] - 24s 3s/step - loss: 0.0185 - accuracy: 0.9958 - val_loss: 0.4450 - val_accuracy: 0.9121\n",
      "Epoch 127/300\n",
      "7/7 [==============================] - 24s 3s/step - loss: 0.0172 - accuracy: 0.9949 - val_loss: 0.4366 - val_accuracy: 0.9177\n",
      "Epoch 128/300\n",
      "7/7 [==============================] - 24s 4s/step - loss: 0.0105 - accuracy: 0.9979 - val_loss: 0.4535 - val_accuracy: 0.9163\n",
      "Epoch 129/300\n",
      "7/7 [==============================] - 24s 3s/step - loss: 0.0129 - accuracy: 0.9961 - val_loss: 0.4728 - val_accuracy: 0.9149\n",
      "Epoch 130/300\n",
      "7/7 [==============================] - 24s 3s/step - loss: 0.0093 - accuracy: 0.9964 - val_loss: 0.5221 - val_accuracy: 0.9149\n",
      "Epoch 131/300\n",
      "7/7 [==============================] - 24s 3s/step - loss: 0.0183 - accuracy: 0.9946 - val_loss: 0.4805 - val_accuracy: 0.9206\n",
      "Epoch 132/300\n",
      "7/7 [==============================] - 24s 3s/step - loss: 0.0147 - accuracy: 0.9958 - val_loss: 0.4950 - val_accuracy: 0.9234\n",
      "Epoch 133/300\n",
      "7/7 [==============================] - 24s 3s/step - loss: 0.0139 - accuracy: 0.9958 - val_loss: 0.5593 - val_accuracy: 0.9021\n",
      "Epoch 134/300\n",
      "7/7 [==============================] - 24s 4s/step - loss: 0.0219 - accuracy: 0.9946 - val_loss: 0.5667 - val_accuracy: 0.9092\n",
      "Epoch 135/300\n",
      "7/7 [==============================] - 25s 4s/step - loss: 0.0156 - accuracy: 0.9946 - val_loss: 0.5133 - val_accuracy: 0.9177\n",
      "Epoch 136/300\n",
      "7/7 [==============================] - 24s 3s/step - loss: 0.0203 - accuracy: 0.9943 - val_loss: 0.5065 - val_accuracy: 0.9177\n",
      "Epoch 137/300\n",
      "7/7 [==============================] - 24s 3s/step - loss: 0.0216 - accuracy: 0.9926 - val_loss: 0.5373 - val_accuracy: 0.9078\n",
      "Epoch 138/300\n",
      "7/7 [==============================] - 24s 3s/step - loss: 0.0223 - accuracy: 0.9923 - val_loss: 0.4906 - val_accuracy: 0.9149\n",
      "Epoch 139/300\n",
      "7/7 [==============================] - 24s 3s/step - loss: 0.0119 - accuracy: 0.9961 - val_loss: 0.5110 - val_accuracy: 0.9121\n",
      "Epoch 140/300\n",
      "7/7 [==============================] - 24s 3s/step - loss: 0.0105 - accuracy: 0.9982 - val_loss: 0.5124 - val_accuracy: 0.9206\n",
      "Epoch 141/300\n",
      "7/7 [==============================] - 24s 3s/step - loss: 0.0112 - accuracy: 0.9967 - val_loss: 0.4766 - val_accuracy: 0.9106\n",
      "Epoch 142/300\n",
      "7/7 [==============================] - 24s 3s/step - loss: 0.0150 - accuracy: 0.9958 - val_loss: 0.4349 - val_accuracy: 0.9149\n",
      "Epoch 143/300\n",
      "7/7 [==============================] - 24s 3s/step - loss: 0.0128 - accuracy: 0.9964 - val_loss: 0.4479 - val_accuracy: 0.9149\n",
      "Epoch 144/300\n",
      "7/7 [==============================] - 24s 3s/step - loss: 0.0143 - accuracy: 0.9958 - val_loss: 0.5223 - val_accuracy: 0.9064\n",
      "Epoch 145/300\n",
      "7/7 [==============================] - 24s 3s/step - loss: 0.0193 - accuracy: 0.9955 - val_loss: 0.4978 - val_accuracy: 0.9149\n",
      "Epoch 146/300\n",
      "7/7 [==============================] - 24s 4s/step - loss: 0.0123 - accuracy: 0.9952 - val_loss: 0.5278 - val_accuracy: 0.9007\n",
      "Epoch 147/300\n",
      "7/7 [==============================] - 24s 3s/step - loss: 0.0118 - accuracy: 0.9949 - val_loss: 0.5355 - val_accuracy: 0.9106\n",
      "Epoch 148/300\n",
      "7/7 [==============================] - 24s 3s/step - loss: 0.0167 - accuracy: 0.9955 - val_loss: 0.5118 - val_accuracy: 0.9106\n",
      "Epoch 149/300\n",
      "7/7 [==============================] - 24s 3s/step - loss: 0.0172 - accuracy: 0.9943 - val_loss: 0.4759 - val_accuracy: 0.9121\n",
      "Epoch 150/300\n",
      "7/7 [==============================] - 24s 3s/step - loss: 0.0147 - accuracy: 0.9958 - val_loss: 0.4772 - val_accuracy: 0.9135\n",
      "Epoch 151/300\n",
      "7/7 [==============================] - 24s 3s/step - loss: 0.0116 - accuracy: 0.9958 - val_loss: 0.4887 - val_accuracy: 0.9163\n",
      "Epoch 152/300\n",
      "7/7 [==============================] - 24s 3s/step - loss: 0.0106 - accuracy: 0.9970 - val_loss: 0.4613 - val_accuracy: 0.9191\n",
      "Epoch 153/300\n",
      "7/7 [==============================] - 25s 4s/step - loss: 0.0102 - accuracy: 0.9976 - val_loss: 0.4864 - val_accuracy: 0.9149\n",
      "Epoch 154/300\n",
      "7/7 [==============================] - 24s 3s/step - loss: 0.0145 - accuracy: 0.9958 - val_loss: 0.5188 - val_accuracy: 0.9163\n",
      "Epoch 155/300\n",
      "7/7 [==============================] - 24s 3s/step - loss: 0.0105 - accuracy: 0.9964 - val_loss: 0.5421 - val_accuracy: 0.9135\n",
      "Epoch 156/300\n",
      "7/7 [==============================] - 24s 3s/step - loss: 0.0104 - accuracy: 0.9970 - val_loss: 0.4545 - val_accuracy: 0.9234\n",
      "Epoch 157/300\n",
      "7/7 [==============================] - 24s 3s/step - loss: 0.0155 - accuracy: 0.9958 - val_loss: 0.4658 - val_accuracy: 0.9177\n",
      "Epoch 158/300\n",
      "7/7 [==============================] - 24s 3s/step - loss: 0.0189 - accuracy: 0.9967 - val_loss: 0.5015 - val_accuracy: 0.9106\n",
      "Epoch 159/300\n",
      "7/7 [==============================] - 24s 3s/step - loss: 0.0199 - accuracy: 0.9946 - val_loss: 0.4748 - val_accuracy: 0.9234\n",
      "Epoch 160/300\n",
      "7/7 [==============================] - 24s 3s/step - loss: 0.0123 - accuracy: 0.9964 - val_loss: 0.4502 - val_accuracy: 0.9191\n",
      "Epoch 161/300\n",
      "7/7 [==============================] - 24s 3s/step - loss: 0.0111 - accuracy: 0.9970 - val_loss: 0.4647 - val_accuracy: 0.9121\n",
      "Epoch 162/300\n",
      "7/7 [==============================] - 24s 3s/step - loss: 0.0088 - accuracy: 0.9982 - val_loss: 0.4679 - val_accuracy: 0.9262\n",
      "Epoch 163/300\n",
      "7/7 [==============================] - 24s 3s/step - loss: 0.0074 - accuracy: 0.9976 - val_loss: 0.4794 - val_accuracy: 0.9262\n",
      "Epoch 164/300\n",
      "7/7 [==============================] - 24s 3s/step - loss: 0.0093 - accuracy: 0.9970 - val_loss: 0.4674 - val_accuracy: 0.9291\n",
      "Epoch 165/300\n",
      "7/7 [==============================] - 24s 3s/step - loss: 0.0114 - accuracy: 0.9976 - val_loss: 0.4737 - val_accuracy: 0.9149\n",
      "Epoch 166/300\n",
      "7/7 [==============================] - 24s 3s/step - loss: 0.0089 - accuracy: 0.9967 - val_loss: 0.5125 - val_accuracy: 0.9163\n",
      "Epoch 167/300\n",
      "7/7 [==============================] - 24s 3s/step - loss: 0.0055 - accuracy: 0.9973 - val_loss: 0.5026 - val_accuracy: 0.9177\n",
      "Epoch 168/300\n",
      "7/7 [==============================] - 24s 3s/step - loss: 0.0083 - accuracy: 0.9976 - val_loss: 0.5073 - val_accuracy: 0.9177\n",
      "Epoch 169/300\n",
      "7/7 [==============================] - 24s 4s/step - loss: 0.0067 - accuracy: 0.9985 - val_loss: 0.4897 - val_accuracy: 0.9121\n",
      "Epoch 170/300\n",
      "7/7 [==============================] - 25s 4s/step - loss: 0.0129 - accuracy: 0.9961 - val_loss: 0.5076 - val_accuracy: 0.9078\n",
      "Epoch 171/300\n",
      "7/7 [==============================] - 23s 3s/step - loss: 0.0060 - accuracy: 0.9982 - val_loss: 0.5164 - val_accuracy: 0.9177\n",
      "Epoch 172/300\n",
      "7/7 [==============================] - 24s 3s/step - loss: 0.0102 - accuracy: 0.9982 - val_loss: 0.5431 - val_accuracy: 0.9149\n",
      "Epoch 173/300\n",
      "7/7 [==============================] - 24s 3s/step - loss: 0.0083 - accuracy: 0.9973 - val_loss: 0.5278 - val_accuracy: 0.9149\n",
      "Epoch 174/300\n",
      "7/7 [==============================] - 24s 3s/step - loss: 0.0135 - accuracy: 0.9964 - val_loss: 0.5275 - val_accuracy: 0.9220\n",
      "Epoch 175/300\n",
      "7/7 [==============================] - 24s 3s/step - loss: 0.0059 - accuracy: 0.9982 - val_loss: 0.5365 - val_accuracy: 0.9135\n",
      "Epoch 176/300\n",
      "7/7 [==============================] - 24s 3s/step - loss: 0.0097 - accuracy: 0.9967 - val_loss: 0.4914 - val_accuracy: 0.9234\n",
      "Epoch 177/300\n",
      "7/7 [==============================] - 24s 3s/step - loss: 0.0099 - accuracy: 0.9964 - val_loss: 0.5082 - val_accuracy: 0.9206\n",
      "Epoch 178/300\n",
      "7/7 [==============================] - 24s 3s/step - loss: 0.0159 - accuracy: 0.9952 - val_loss: 0.5084 - val_accuracy: 0.9177\n",
      "Epoch 179/300\n",
      "7/7 [==============================] - 24s 3s/step - loss: 0.0149 - accuracy: 0.9955 - val_loss: 0.5635 - val_accuracy: 0.9078\n",
      "Epoch 180/300\n",
      "7/7 [==============================] - 24s 3s/step - loss: 0.0136 - accuracy: 0.9967 - val_loss: 0.5332 - val_accuracy: 0.9149\n",
      "Epoch 181/300\n",
      "7/7 [==============================] - 24s 3s/step - loss: 0.0135 - accuracy: 0.9970 - val_loss: 0.5182 - val_accuracy: 0.9121\n",
      "Epoch 182/300\n",
      "7/7 [==============================] - 24s 3s/step - loss: 0.0175 - accuracy: 0.9955 - val_loss: 0.5628 - val_accuracy: 0.9135\n",
      "Epoch 183/300\n",
      "7/7 [==============================] - 25s 4s/step - loss: 0.0135 - accuracy: 0.9955 - val_loss: 0.5264 - val_accuracy: 0.9121\n",
      "Epoch 184/300\n",
      "7/7 [==============================] - 24s 3s/step - loss: 0.0095 - accuracy: 0.9973 - val_loss: 0.5336 - val_accuracy: 0.9078\n",
      "Epoch 185/300\n",
      "7/7 [==============================] - 25s 4s/step - loss: 0.0156 - accuracy: 0.9958 - val_loss: 0.5609 - val_accuracy: 0.9121\n",
      "Epoch 186/300\n",
      "7/7 [==============================] - 24s 3s/step - loss: 0.0141 - accuracy: 0.9964 - val_loss: 0.5483 - val_accuracy: 0.9135\n",
      "Epoch 187/300\n",
      "7/7 [==============================] - 24s 3s/step - loss: 0.0127 - accuracy: 0.9964 - val_loss: 0.5410 - val_accuracy: 0.9078\n",
      "Epoch 188/300\n",
      "7/7 [==============================] - 24s 3s/step - loss: 0.0134 - accuracy: 0.9961 - val_loss: 0.5678 - val_accuracy: 0.9092\n",
      "Epoch 189/300\n",
      "7/7 [==============================] - 24s 3s/step - loss: 0.0064 - accuracy: 0.9979 - val_loss: 0.5407 - val_accuracy: 0.9149\n",
      "Epoch 190/300\n",
      "7/7 [==============================] - 24s 3s/step - loss: 0.0044 - accuracy: 0.9985 - val_loss: 0.5332 - val_accuracy: 0.9163\n",
      "Epoch 191/300\n",
      "7/7 [==============================] - 24s 3s/step - loss: 0.0099 - accuracy: 0.9973 - val_loss: 0.5606 - val_accuracy: 0.9064\n",
      "Epoch 192/300\n",
      "7/7 [==============================] - 24s 3s/step - loss: 0.0107 - accuracy: 0.9976 - val_loss: 0.5347 - val_accuracy: 0.9092\n",
      "Epoch 193/300\n",
      "7/7 [==============================] - 24s 3s/step - loss: 0.0049 - accuracy: 0.9988 - val_loss: 0.5483 - val_accuracy: 0.9106\n",
      "Epoch 194/300\n",
      "7/7 [==============================] - 24s 3s/step - loss: 0.0083 - accuracy: 0.9976 - val_loss: 0.5443 - val_accuracy: 0.9092\n",
      "Epoch 195/300\n",
      "7/7 [==============================] - 24s 3s/step - loss: 0.0078 - accuracy: 0.9970 - val_loss: 0.5270 - val_accuracy: 0.9092\n",
      "Epoch 196/300\n",
      "7/7 [==============================] - 24s 3s/step - loss: 0.0095 - accuracy: 0.9970 - val_loss: 0.5124 - val_accuracy: 0.9106\n",
      "Epoch 197/300\n",
      "7/7 [==============================] - 24s 3s/step - loss: 0.0118 - accuracy: 0.9967 - val_loss: 0.5190 - val_accuracy: 0.9135\n",
      "Epoch 198/300\n",
      "7/7 [==============================] - 24s 3s/step - loss: 0.0083 - accuracy: 0.9973 - val_loss: 0.5167 - val_accuracy: 0.9149\n",
      "Epoch 199/300\n",
      "7/7 [==============================] - 24s 3s/step - loss: 0.0056 - accuracy: 0.9982 - val_loss: 0.5052 - val_accuracy: 0.9149\n",
      "Epoch 200/300\n",
      "7/7 [==============================] - 24s 3s/step - loss: 0.0082 - accuracy: 0.9979 - val_loss: 0.5076 - val_accuracy: 0.9177\n",
      "Epoch 201/300\n",
      "7/7 [==============================] - 24s 3s/step - loss: 0.0037 - accuracy: 0.9988 - val_loss: 0.5100 - val_accuracy: 0.9177\n",
      "Epoch 202/300\n",
      "7/7 [==============================] - 24s 3s/step - loss: 0.0035 - accuracy: 0.9991 - val_loss: 0.5481 - val_accuracy: 0.9177\n",
      "Epoch 203/300\n",
      "7/7 [==============================] - 24s 3s/step - loss: 0.0077 - accuracy: 0.9982 - val_loss: 0.5854 - val_accuracy: 0.9121\n",
      "Epoch 204/300\n",
      "7/7 [==============================] - 24s 3s/step - loss: 0.0094 - accuracy: 0.9976 - val_loss: 0.5626 - val_accuracy: 0.9135\n",
      "Epoch 205/300\n",
      "7/7 [==============================] - 24s 3s/step - loss: 0.0158 - accuracy: 0.9967 - val_loss: 0.5745 - val_accuracy: 0.9191\n",
      "Epoch 206/300\n",
      "7/7 [==============================] - 24s 3s/step - loss: 0.0075 - accuracy: 0.9985 - val_loss: 0.5612 - val_accuracy: 0.9149\n",
      "Epoch 207/300\n",
      "7/7 [==============================] - 24s 3s/step - loss: 0.0042 - accuracy: 0.9988 - val_loss: 0.5546 - val_accuracy: 0.9149\n",
      "Epoch 208/300\n",
      "7/7 [==============================] - 24s 3s/step - loss: 0.0146 - accuracy: 0.9958 - val_loss: 0.5210 - val_accuracy: 0.9149\n",
      "Epoch 209/300\n",
      "7/7 [==============================] - 24s 3s/step - loss: 0.0108 - accuracy: 0.9976 - val_loss: 0.5134 - val_accuracy: 0.9163\n",
      "Epoch 210/300\n",
      "7/7 [==============================] - 24s 3s/step - loss: 0.0101 - accuracy: 0.9979 - val_loss: 0.5659 - val_accuracy: 0.9149\n",
      "Epoch 211/300\n",
      "7/7 [==============================] - 24s 3s/step - loss: 0.0158 - accuracy: 0.9964 - val_loss: 0.5104 - val_accuracy: 0.9135\n",
      "Epoch 212/300\n",
      "7/7 [==============================] - 24s 3s/step - loss: 0.0047 - accuracy: 0.9988 - val_loss: 0.5047 - val_accuracy: 0.9163\n",
      "Epoch 213/300\n",
      "7/7 [==============================] - 24s 3s/step - loss: 0.0136 - accuracy: 0.9976 - val_loss: 0.5667 - val_accuracy: 0.9092\n",
      "Epoch 214/300\n",
      "7/7 [==============================] - 24s 3s/step - loss: 0.0158 - accuracy: 0.9949 - val_loss: 0.6003 - val_accuracy: 0.9050\n"
     ]
    }
   ],
   "source": [
    "EPOCHS = 300\n",
    "\n",
    "\n",
    "with mirrored_strategy.scope():\n",
    "    # TRAINING PHASE \n",
    "    train_batches, valid_batches = prepare_batches(\n",
    "        TRAINING_DATA_DIR, VALID_DATA_DIR, IMAGE_SHAPE, 512\n",
    "    )    \n",
    "    \n",
    "    \n",
    "    model_fined = tf.keras.models.load_model(f\"../input/convexnet90/models/ConvexNet_transfer_learning_Best\")\n",
    "    \n",
    "    # find the index in the model referring to the convexnext part.\n",
    "    fe_index = None\n",
    "    for ind, l in enumerate(model_fined.layers):\n",
    "        if type(l) == keras.engine.functional.Functional:\n",
    "            fe_index = ind\n",
    "\n",
    "    freeze_from = 150\n",
    "    print(f\"freeze from {freeze_from}\")\n",
    "    \n",
    "    # unfreeze layers\n",
    "    model_fined.layers[fe_index].trainable=True\n",
    "    \n",
    "    # freeze remainig layers \n",
    "    for l in model_fined.layers[fe_index].layers[:freeze_from]:\n",
    "        l.trainable = False\n",
    "        \n",
    "    # freeze all batch normalization layers\n",
    "    for l in model_fined.layers[fe_index].layers:\n",
    "        if type(l) == tfkl.BatchNormalization:\n",
    "            l.trainable = False\n",
    "    \n",
    "    # Compile the model\n",
    "    model_fined.compile(loss=tfk.losses.CategoricalCrossentropy(), optimizer=tfk.optimizers.Adam(1e-4), metrics='accuracy')\n",
    "    \n",
    "    early_stopping = tf.keras.callbacks.EarlyStopping(patience=50, monitor=\"val_accuracy\", restore_best_weights=True)\n",
    "    history = model_fined.fit(\n",
    "        train_batches,\n",
    "        epochs=EPOCHS,\n",
    "        validation_data=valid_batches,\n",
    "        verbose=1,\n",
    "        workers=4,\n",
    "        use_multiprocessing=True,\n",
    "        callbacks=[early_stopping]\n",
    "    )"
   ]
  },
  {
   "cell_type": "code",
   "execution_count": 10,
   "metadata": {
    "execution": {
     "iopub.execute_input": "2022-11-23T16:53:04.969540Z",
     "iopub.status.busy": "2022-11-23T16:53:04.968770Z",
     "iopub.status.idle": "2022-11-23T16:53:05.351769Z",
     "shell.execute_reply": "2022-11-23T16:53:05.350748Z",
     "shell.execute_reply.started": "2022-11-23T16:53:04.969494Z"
    }
   },
   "outputs": [
    {
     "name": "stdout",
     "output_type": "stream",
     "text": [
      "0.9290780425071716 0.9991076588630676\n"
     ]
    },
    {
     "data": {
      "image/png": "[encoded data removed]",
      "text/plain": [
       "<Figure size 864x432 with 1 Axes>"
      ]
     },
     "metadata": {
      "needs_background": "light"
     },
     "output_type": "display_data"
    }
   ],
   "source": [
    "x_axis = len(history.history[\"accuracy\"])\n",
    "print(max(history.history[\"val_accuracy\"]), max(history.history[\"accuracy\"]))\n",
    "history.history.keys()\n",
    "plt.figure(figsize=(12, 6))\n",
    "plt.plot([i for i in range(x_axis)], history.history[\"accuracy\"],  color=\"blue\", label=\"train accuracy\")\n",
    "plt.plot([i for i in range(x_axis)], history.history[\"val_accuracy\"], color=\"red\", label=\"validation accuracy\")\n",
    "plt.plot([np.argmax(history.history[\"val_accuracy\"])],\n",
    "         [max(history.history[\"val_accuracy\"])],\n",
    "         marker=\"o\",\n",
    "         markeredgecolor=\"red\",\n",
    "         markerfacecolor=\"red\",\n",
    "         label=\"best model\",\n",
    "         markersize=10\n",
    "        )\n",
    "plt.axhline(y=0.88, color='green', linestyle='-')\n",
    "plt.legend()\n",
    "plt.grid()\n",
    "plt.xlabel(\"Epochs\")\n",
    "plt.ylabel(\"Accuracy\")\n",
    "minimum = min(min(history.history[\"accuracy\"]), min(history.history[\"val_accuracy\"]))\n",
    "plt.ylim([minimum, 1])\n",
    "plt.show()"
   ]
  },
  {
   "cell_type": "code",
   "execution_count": 11,
   "metadata": {
    "execution": {
     "iopub.execute_input": "2022-11-23T16:53:15.345977Z",
     "iopub.status.busy": "2022-11-23T16:53:15.345370Z",
     "iopub.status.idle": "2022-11-23T16:53:29.033841Z",
     "shell.execute_reply": "2022-11-23T16:53:29.032698Z",
     "shell.execute_reply.started": "2022-11-23T16:53:15.345939Z"
    }
   },
   "outputs": [
    {
     "name": "stderr",
     "output_type": "stream",
     "text": [
      "2022-11-23 16:53:15.366781: W tensorflow/core/grappler/optimizers/data/auto_shard.cc:695] AUTO sharding policy will apply DATA sharding policy as it failed to apply FILE sharding policy because of the following reason: Found an unshardable source dataset: name: \"TensorSliceDataset/_1\"\n",
      "op: \"TensorSliceDataset\"\n",
      "input: \"Placeholder/_0\"\n",
      "attr {\n",
      "  key: \"Toutput_types\"\n",
      "  value {\n",
      "    list {\n",
      "      type: DT_STRING\n",
      "    }\n",
      "  }\n",
      "}\n",
      "attr {\n",
      "  key: \"output_shapes\"\n",
      "  value {\n",
      "    list {\n",
      "      shape {\n",
      "      }\n",
      "    }\n",
      "  }\n",
      "}\n",
      "\n"
     ]
    },
    {
     "data": {
      "text/plain": [
       "[]"
      ]
     },
     "execution_count": 11,
     "metadata": {},
     "output_type": "execute_result"
    },
    {
     "data": {
      "image/png": "[encoded data removed]",
      "text/plain": [
       "<Figure size 576x504 with 2 Axes>"
      ]
     },
     "metadata": {
      "needs_background": "light"
     },
     "output_type": "display_data"
    }
   ],
   "source": [
    "plt.figure(figsize=(8, 7))\n",
    "df = build_heatmap(model_fined, valid_batches)\n",
    "sns.heatmap(df, annot=True, cmap=\"crest\")\n",
    "plt.plot()"
   ]
  },
  {
   "cell_type": "code",
   "execution_count": null,
   "metadata": {
    "execution": {
     "iopub.execute_input": "2022-11-23T17:10:00.018663Z",
     "iopub.status.busy": "2022-11-23T17:10:00.018281Z"
    }
   },
   "outputs": [
    {
     "name": "stderr",
     "output_type": "stream",
     "text": [
      "2022-11-23 17:10:12.703328: W tensorflow/python/util/util.cc:348] Sets are not currently considered sequences, but this may change in the future, so consider avoiding using them.\n"
     ]
    }
   ],
   "source": [
    "model_fined.save(f\"models/ConvexNet_fined_Best\")"
   ]
  },
  {
   "cell_type": "markdown",
   "metadata": {},
   "source": [
    "Confusion matrix for self-ensemble method.\n",
    "It does not change anything..."
   ]
  },
  {
   "cell_type": "code",
   "execution_count": 12,
   "metadata": {
    "execution": {
     "iopub.execute_input": "2022-11-23T16:53:43.425557Z",
     "iopub.status.busy": "2022-11-23T16:53:43.424474Z",
     "iopub.status.idle": "2022-11-23T16:53:55.801203Z",
     "shell.execute_reply": "2022-11-23T16:53:55.800005Z",
     "shell.execute_reply.started": "2022-11-23T16:53:43.425482Z"
    }
   },
   "outputs": [
    {
     "name": "stderr",
     "output_type": "stream",
     "text": [
      "2022-11-23 16:53:43.458328: W tensorflow/core/grappler/optimizers/data/auto_shard.cc:695] AUTO sharding policy will apply DATA sharding policy as it failed to apply FILE sharding policy because of the following reason: Found an unshardable source dataset: name: \"TensorSliceDataset/_1\"\n",
      "op: \"TensorSliceDataset\"\n",
      "input: \"Placeholder/_0\"\n",
      "attr {\n",
      "  key: \"Toutput_types\"\n",
      "  value {\n",
      "    list {\n",
      "      type: DT_STRING\n",
      "    }\n",
      "  }\n",
      "}\n",
      "attr {\n",
      "  key: \"output_shapes\"\n",
      "  value {\n",
      "    list {\n",
      "      shape {\n",
      "      }\n",
      "    }\n",
      "  }\n",
      "}\n",
      "\n",
      "2022-11-23 16:53:45.930910: W tensorflow/core/grappler/optimizers/data/auto_shard.cc:695] AUTO sharding policy will apply DATA sharding policy as it failed to apply FILE sharding policy because of the following reason: Found an unshardable source dataset: name: \"TensorSliceDataset/_1\"\n",
      "op: \"TensorSliceDataset\"\n",
      "input: \"Placeholder/_0\"\n",
      "attr {\n",
      "  key: \"Toutput_types\"\n",
      "  value {\n",
      "    list {\n",
      "      type: DT_STRING\n",
      "    }\n",
      "  }\n",
      "}\n",
      "attr {\n",
      "  key: \"output_shapes\"\n",
      "  value {\n",
      "    list {\n",
      "      shape {\n",
      "      }\n",
      "    }\n",
      "  }\n",
      "}\n",
      "\n",
      "2022-11-23 16:53:48.240621: W tensorflow/core/grappler/optimizers/data/auto_shard.cc:695] AUTO sharding policy will apply DATA sharding policy as it failed to apply FILE sharding policy because of the following reason: Found an unshardable source dataset: name: \"TensorSliceDataset/_1\"\n",
      "op: \"TensorSliceDataset\"\n",
      "input: \"Placeholder/_0\"\n",
      "attr {\n",
      "  key: \"Toutput_types\"\n",
      "  value {\n",
      "    list {\n",
      "      type: DT_STRING\n",
      "    }\n",
      "  }\n",
      "}\n",
      "attr {\n",
      "  key: \"output_shapes\"\n",
      "  value {\n",
      "    list {\n",
      "      shape {\n",
      "      }\n",
      "    }\n",
      "  }\n",
      "}\n",
      "\n",
      "2022-11-23 16:53:50.571250: W tensorflow/core/grappler/optimizers/data/auto_shard.cc:695] AUTO sharding policy will apply DATA sharding policy as it failed to apply FILE sharding policy because of the following reason: Found an unshardable source dataset: name: \"TensorSliceDataset/_1\"\n",
      "op: \"TensorSliceDataset\"\n",
      "input: \"Placeholder/_0\"\n",
      "attr {\n",
      "  key: \"Toutput_types\"\n",
      "  value {\n",
      "    list {\n",
      "      type: DT_STRING\n",
      "    }\n",
      "  }\n",
      "}\n",
      "attr {\n",
      "  key: \"output_shapes\"\n",
      "  value {\n",
      "    list {\n",
      "      shape {\n",
      "      }\n",
      "    }\n",
      "  }\n",
      "}\n",
      "\n",
      "2022-11-23 16:53:52.875252: W tensorflow/core/grappler/optimizers/data/auto_shard.cc:695] AUTO sharding policy will apply DATA sharding policy as it failed to apply FILE sharding policy because of the following reason: Found an unshardable source dataset: name: \"TensorSliceDataset/_1\"\n",
      "op: \"TensorSliceDataset\"\n",
      "input: \"Placeholder/_0\"\n",
      "attr {\n",
      "  key: \"Toutput_types\"\n",
      "  value {\n",
      "    list {\n",
      "      type: DT_STRING\n",
      "    }\n",
      "  }\n",
      "}\n",
      "attr {\n",
      "  key: \"output_shapes\"\n",
      "  value {\n",
      "    list {\n",
      "      shape {\n",
      "      }\n",
      "    }\n",
      "  }\n",
      "}\n",
      "\n",
      "2022-11-23 16:53:55.216932: W tensorflow/core/data/root_dataset.cc:167] Optimization loop failed: Cancelled: Operation was cancelled\n"
     ]
    },
    {
     "data": {
      "text/plain": [
       "[]"
      ]
     },
     "execution_count": 12,
     "metadata": {},
     "output_type": "execute_result"
    },
    {
     "data": {
      "image/png": "[encoded data removed]",
      "text/plain": [
       "<Figure size 576x504 with 2 Axes>"
      ]
     },
     "metadata": {
      "needs_background": "light"
     },
     "output_type": "display_data"
    }
   ],
   "source": [
    "plt.figure(figsize=(8, 7))\n",
    "df = build_heatmap(model_fined, valid_batches, ensemble=True)\n",
    "sns.heatmap(df, annot=True, cmap=\"crest\")\n",
    "plt.plot()"
   ]
  }
 ],
 "metadata": {
  "kernelspec": {
   "display_name": "Python 3 (ipykernel)",
   "language": "python",
   "name": "python3"
  },
  "language_info": {
   "codemirror_mode": {
    "name": "ipython",
    "version": 3
   },
   "file_extension": ".py",
   "mimetype": "text/x-python",
   "name": "python",
   "nbconvert_exporter": "python",
   "pygments_lexer": "ipython3",
   "version": "3.8.13"
  }
 },
 "nbformat": 4,
 "nbformat_minor": 4
}
